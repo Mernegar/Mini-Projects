{
 "cells": [
  {
   "cell_type": "markdown",
   "metadata": {},
   "source": [
    "# What is the True Normal Human Body Temperature? \n",
    "\n",
    "#### Background\n",
    "\n",
    "The mean normal body temperature was held to be 37$^{\\circ}$C or 98.6$^{\\circ}$F for more than 120 years since it was first conceptualized and reported by Carl Wunderlich in a famous 1868 book. But, is this value statistically correct?"
   ]
  },
  {
   "cell_type": "markdown",
   "metadata": {},
   "source": [
    "<h3>Exercises</h3>\n",
    "\n",
    "<p>In this exercise, you will analyze a dataset of human body temperatures and employ the concepts of hypothesis testing, confidence intervals, and statistical significance.</p>\n",
    "\n",
    "<p>Answer the following questions <b>in this notebook below and submit to your Github account</b>.</p> \n",
    "\n",
    "<ol>\n",
    "<li>  Is the distribution of body temperatures normal? \n",
    "    <ul>\n",
    "    <li> Although this is not a requirement for the Central Limit Theorem to hold (read the introduction on Wikipedia's page about the CLT carefully: https://en.wikipedia.org/wiki/Central_limit_theorem), it gives us some peace of mind that the population may also be normally distributed if we assume that this sample is representative of the population.\n",
    "    <li> Think about the way you're going to check for the normality of the distribution. Graphical methods are usually used first, but there are also other ways: https://en.wikipedia.org/wiki/Normality_test\n",
    "    </ul>\n",
    "<li>  Is the sample size large? Are the observations independent?\n",
    "    <ul>\n",
    "    <li> Remember that this is a condition for the Central Limit Theorem, and hence the statistical tests we are using, to apply.\n",
    "    </ul>\n",
    "<li>  Is the true population mean really 98.6 degrees F?\n",
    "    <ul>\n",
    "    <li> First, try a bootstrap hypothesis test.\n",
    "    <li> Now, let's try frequentist statistical testing. Would you use a one-sample or two-sample test? Why?\n",
    "    <li> In this situation, is it appropriate to use the $t$ or $z$ statistic? \n",
    "    <li> Now try using the other test. How is the result be different? Why?\n",
    "    </ul>\n",
    "<li>  Draw a small sample of size 10 from the data and repeat both frequentist tests. \n",
    "    <ul>\n",
    "    <li> Which one is the correct one to use? \n",
    "    <li> What do you notice? What does this tell you about the difference in application of the $t$ and $z$ statistic?\n",
    "    </ul>\n",
    "<li>  At what temperature should we consider someone's temperature to be \"abnormal\"?\n",
    "    <ul>\n",
    "    <li> As in the previous example, try calculating everything using the boostrap approach, as well as the frequentist approach.\n",
    "    <li> Start by computing the margin of error and confidence interval. When calculating the confidence interval, keep in mind that you should use the appropriate formula for one draw, and not N draws.\n",
    "    </ul>\n",
    "<li>  Is there a significant difference between males and females in normal temperature?\n",
    "    <ul>\n",
    "    <li> What testing approach did you use and why?\n",
    "    <li> Write a story with your conclusion in the context of the original problem.\n",
    "    </ul>\n",
    "</ol>\n",
    "\n",
    "You can include written notes in notebook cells using Markdown: \n",
    "   - In the control panel at the top, choose Cell > Cell Type > Markdown\n",
    "   - Markdown syntax: http://nestacms.com/docs/creating-content/markdown-cheat-sheet\n",
    "\n",
    "#### Resources\n",
    "\n",
    "+ Information and data sources: http://www.amstat.org/publications/jse/datasets/normtemp.txt, http://www.amstat.org/publications/jse/jse_data_archive.htm\n",
    "+ Markdown syntax: http://nestacms.com/docs/creating-content/markdown-cheat-sheet\n",
    "\n",
    "****"
   ]
  },
  {
   "cell_type": "code",
   "execution_count": 11,
   "metadata": {},
   "outputs": [],
   "source": [
    "import pandas as pd\n",
    "import numpy as np\n",
    "import seaborn as sns\n",
    "import matplotlib.pyplot as plt\n",
    "\n",
    "\n",
    "df = pd.read_csv('data/human_body_temperature.csv')"
   ]
  },
  {
   "cell_type": "code",
   "execution_count": 9,
   "metadata": {},
   "outputs": [
    {
     "data": {
      "text/html": [
       "<div>\n",
       "<style scoped>\n",
       "    .dataframe tbody tr th:only-of-type {\n",
       "        vertical-align: middle;\n",
       "    }\n",
       "\n",
       "    .dataframe tbody tr th {\n",
       "        vertical-align: top;\n",
       "    }\n",
       "\n",
       "    .dataframe thead th {\n",
       "        text-align: right;\n",
       "    }\n",
       "</style>\n",
       "<table border=\"1\" class=\"dataframe\">\n",
       "  <thead>\n",
       "    <tr style=\"text-align: right;\">\n",
       "      <th></th>\n",
       "      <th>temperature</th>\n",
       "      <th>gender</th>\n",
       "      <th>heart_rate</th>\n",
       "    </tr>\n",
       "  </thead>\n",
       "  <tbody>\n",
       "    <tr>\n",
       "      <th>0</th>\n",
       "      <td>99.3</td>\n",
       "      <td>F</td>\n",
       "      <td>68.0</td>\n",
       "    </tr>\n",
       "    <tr>\n",
       "      <th>1</th>\n",
       "      <td>98.4</td>\n",
       "      <td>F</td>\n",
       "      <td>81.0</td>\n",
       "    </tr>\n",
       "    <tr>\n",
       "      <th>2</th>\n",
       "      <td>97.8</td>\n",
       "      <td>M</td>\n",
       "      <td>73.0</td>\n",
       "    </tr>\n",
       "    <tr>\n",
       "      <th>3</th>\n",
       "      <td>99.2</td>\n",
       "      <td>F</td>\n",
       "      <td>66.0</td>\n",
       "    </tr>\n",
       "    <tr>\n",
       "      <th>4</th>\n",
       "      <td>98.0</td>\n",
       "      <td>F</td>\n",
       "      <td>73.0</td>\n",
       "    </tr>\n",
       "  </tbody>\n",
       "</table>\n",
       "</div>"
      ],
      "text/plain": [
       "   temperature gender  heart_rate\n",
       "0         99.3      F        68.0\n",
       "1         98.4      F        81.0\n",
       "2         97.8      M        73.0\n",
       "3         99.2      F        66.0\n",
       "4         98.0      F        73.0"
      ]
     },
     "execution_count": 9,
     "metadata": {},
     "output_type": "execute_result"
    }
   ],
   "source": [
    "df.head()"
   ]
  },
  {
   "cell_type": "code",
   "execution_count": 10,
   "metadata": {},
   "outputs": [],
   "source": [
    "temp = df['temperature']"
   ]
  },
  {
   "cell_type": "markdown",
   "metadata": {},
   "source": [
    "1. Is the distribution of body temperatures normal?\n",
    "\n",
    "Yes, ecdf and theoritical cdf are close to Normal Distribution, hence we can consider the distribution as normal. "
   ]
  },
  {
   "cell_type": "code",
   "execution_count": 15,
   "metadata": {},
   "outputs": [],
   "source": [
    "def ecdf(data):\n",
    "    \"\"\"Compute ECDF for a one-dimensional array of measurements.\"\"\"\n",
    "    # Number of data points: n\n",
    "    n = len(data)\n",
    "\n",
    "    # x-data for the ECDF: x\n",
    "    x = np.sort(data)\n",
    "\n",
    "    # y-data for the ECDF: y\n",
    "    y = np.arange(1, n + 1) / n\n",
    "\n",
    "    return x, y"
   ]
  },
  {
   "cell_type": "code",
   "execution_count": 18,
   "metadata": {},
   "outputs": [
    {
     "data": {
      "image/png": "[encoded data removed]",
      "text/plain": [
       "<Figure size 432x288 with 1 Axes>"
      ]
     },
     "metadata": {},
     "output_type": "display_data"
    }
   ],
   "source": [
    "mean = np.mean(temp)\n",
    "std = np.std (temp)\n",
    "\n",
    "\n",
    "samples = np.random.normal(mean , std, size = 10000)\n",
    "x_vers , y_vers = ecdf(temp)\n",
    "x_theor , y_theor = ecdf (samples)\n",
    "\n",
    "\n",
    "sns.set()\n",
    "\n",
    "_ = plt.plot (x_theor , y_theor)\n",
    "_ = plt.plot(x_vers , y_vers , marker = '.' , linestyle = 'none')\n",
    "\n",
    "_ = plt.xlabel('Body Temperature')\n",
    "_ = plt.ylabel('count')\n",
    "\n",
    "plt.show()"
   ]
  },
  {
   "cell_type": "markdown",
   "metadata": {},
   "source": [
    "2. Is the sample size large? \n",
    "\n",
    "Yes, 130 can be coonsidered a large enough sample size for Central Limit Theorem \n",
    "\n",
    "Are the observations independent?\n",
    "\n",
    "Yes, body temprature of each person is independant froom the body tempreture of others. "
   ]
  },
  {
   "cell_type": "code",
   "execution_count": 20,
   "metadata": {},
   "outputs": [
    {
     "data": {
      "text/plain": [
       "130"
      ]
     },
     "execution_count": 20,
     "metadata": {},
     "output_type": "execute_result"
    }
   ],
   "source": [
    "len(temp)"
   ]
  },
  {
   "cell_type": "markdown",
   "metadata": {},
   "source": [
    " "
   ]
  },
  {
   "cell_type": "markdown",
   "metadata": {},
   "source": [
    " "
   ]
  },
  {
   "cell_type": "markdown",
   "metadata": {},
   "source": [
    "3. True population mean\n",
    "\n",
    "Is the true population mean really 98.6 degrees F? \n",
    "H0: mu = 98.6\n",
    "Ha : mu <= 98.6\n",
    "P-Value is 0, that means data is statistically significant and the difference between sample mean and theoretical mean is not due to chance and the average human body temprature is closer to 98.2. We can reject Null hypothesis. \n",
    "\n",
    "Would you use a one-sample or two-sample test? Why? One-Sample test. Beacuse we are comparing one set of data to a single number. \n",
    "\n",
    "In this situation, is it appropriate to use the $t$ or $z$ statistic? T-Test, since the std of the population is unknown. \n",
    "Now try using the other test. How is the result be different? Why?"
   ]
  },
  {
   "cell_type": "code",
   "execution_count": 22,
   "metadata": {},
   "outputs": [],
   "source": [
    "# Bootstrap replicate function\n",
    "\n",
    "def bootstrap_replicate_1d(data ,  func) : \n",
    "    return func(np.random.choice(data , len(data)))"
   ]
  },
  {
   "cell_type": "code",
   "execution_count": 23,
   "metadata": {},
   "outputs": [],
   "source": [
    "## Many Bootstrap replicates\n",
    "\n",
    "def draw_bs_reps(data , func , size):\n",
    "    \"\"\"Draw bootstrap replicates.\"\"\"\n",
    "    # Initialize array of replicates: bs_replicates\n",
    "    bs_replicates = np.empty(size)\n",
    "    \n",
    "    # Generate replicates\n",
    "    for i in range(size): \n",
    "        bs_replicates[i] = bootstrap_replicate_1d(data , func)\n",
    "    return bs_replicates"
   ]
  },
  {
   "cell_type": "code",
   "execution_count": 34,
   "metadata": {},
   "outputs": [
    {
     "data": {
      "text/plain": [
       "-0.35076923076921673"
      ]
     },
     "execution_count": 34,
     "metadata": {},
     "output_type": "execute_result"
    }
   ],
   "source": [
    "def diff_from_reality(temp , pop_temp = 98.6):\n",
    "    return np.mean(temp) - pop_temp\n",
    "\n",
    "diff_obs = diff_from_reality(temp)\n",
    "\n",
    "diff_obs"
   ]
  },
  {
   "cell_type": "code",
   "execution_count": 28,
   "metadata": {},
   "outputs": [
    {
     "name": "stdout",
     "output_type": "stream",
     "text": [
      "p_value is :  0.0\n"
     ]
    }
   ],
   "source": [
    "temp_shifted = temp - mean + 98.6\n",
    "\n",
    "# Take 10,000 bootstrap replicates of the mean: bs_replicates\n",
    "\n",
    "bs_replicates = draw_bs_reps(temp_shifted , diff_from_reality , 10000)\n",
    "\n",
    "\n",
    "actual_mean = 98.6 \n",
    "p_value = np.sum(bs_replicates <= diff_obs) / len(bs_replicates)\n",
    "\n",
    "print ('p_value is : ', p_value)"
   ]
  },
  {
   "cell_type": "code",
   "execution_count": 32,
   "metadata": {},
   "outputs": [
    {
     "name": "stdout",
     "output_type": "stream",
     "text": [
      "Z-score is equal to :  5.455  p-value equal to: 0.000000049\n"
     ]
    }
   ],
   "source": [
    "from statsmodels.stats.weightstats import ztest\n",
    "\n",
    "z = ztest(temp , value = 98.6)\n",
    "\n",
    "print(\"Z-score is equal to : %6.3F  p-value equal to: %6.9F\" % (abs(z[0]),z[1]))"
   ]
  },
  {
   "cell_type": "markdown",
   "metadata": {},
   "source": [
    "  "
   ]
  },
  {
   "cell_type": "markdown",
   "metadata": {},
   "source": [
    " "
   ]
  },
  {
   "cell_type": "markdown",
   "metadata": {},
   "source": [
    "4. Draw a small sample of size 10 from the data and repeat both frequentist tests.\n",
    "\n",
    "Which one is the correct one to use? T- test, sample size is less than 30.\n",
    "\n",
    "What do you notice? What does this tell you about the difference in application of the  tt  and  zz  statistic? With smaller sample P-Value increases. "
   ]
  },
  {
   "cell_type": "code",
   "execution_count": 80,
   "metadata": {},
   "outputs": [],
   "source": [
    "import scipy"
   ]
  },
  {
   "cell_type": "code",
   "execution_count": 81,
   "metadata": {},
   "outputs": [
    {
     "data": {
      "text/plain": [
       "Ttest_indResult(statistic=-1.8744119321693316, pvalue=0.06298759112811332)"
      ]
     },
     "execution_count": 81,
     "metadata": {},
     "output_type": "execute_result"
    }
   ],
   "source": [
    "sample = np.random.choice(temp , size = 10)\n",
    "\n",
    "scipy.stats.ttest_ind(temp , sample)"
   ]
  },
  {
   "cell_type": "code",
   "execution_count": 41,
   "metadata": {},
   "outputs": [
    {
     "name": "stdout",
     "output_type": "stream",
     "text": [
      "p_value is :  0.0645\n"
     ]
    }
   ],
   "source": [
    "diff_obs = diff_from_reality(temp)\n",
    "\n",
    "temp_shifted = temp - mean + 98.6\n",
    "\n",
    "\n",
    "for i in range (10000):\n",
    "    bs_samples = np.random.choice (temp_shifted , 10)\n",
    "    bs_replicates [i] = np.mean(bs_samples) - 98.6\n",
    "\n",
    "p_value = np.sum(bs_replicates <= diff_obs)/len(bs_replicates)\n",
    "    \n",
    "print ('p_value is : ', p_value)"
   ]
  },
  {
   "cell_type": "markdown",
   "metadata": {},
   "source": [
    " "
   ]
  },
  {
   "cell_type": "markdown",
   "metadata": {},
   "source": [
    " "
   ]
  },
  {
   "cell_type": "markdown",
   "metadata": {},
   "source": [
    "5. At what temperature should we consider someone's temperature to be \"abnormal\"?\n",
    "\n",
    "Normal human body is between 98.1223 and 98.3753. We should consider tempreture ooutside this range as abnormal.  "
   ]
  },
  {
   "cell_type": "code",
   "execution_count": 82,
   "metadata": {},
   "outputs": [
    {
     "name": "stdout",
     "output_type": "stream",
     "text": [
      "95% Confidence Intervals: [98.12307692 98.37538462]\n",
      "Margin of Error: 0.125550964802579\n"
     ]
    }
   ],
   "source": [
    "bs_replicate = np.empty(100000)\n",
    "\n",
    "for i in range (100000):\n",
    "    bs_samples = np.random.choice(temp, len(temp))\n",
    "    bs_replicate[i] = np.mean(bs_samples)\n",
    "\n",
    "print('95% Confidence Intervals:' , np.percentile(bs_replicate,[2.5,97.5]))\n",
    "\n",
    "      \n",
    "# calculate the Margine of error\n",
    "\n",
    "MOE =  1.96 * np.std(temp) / np.sqrt(len(temp))\n",
    "\n",
    "print ('Margin of Error:' , MOE)"
   ]
  },
  {
   "cell_type": "markdown",
   "metadata": {},
   "source": [
    " "
   ]
  },
  {
   "cell_type": "markdown",
   "metadata": {},
   "source": [
    " "
   ]
  },
  {
   "cell_type": "markdown",
   "metadata": {},
   "source": [
    "6. Is there a significant difference between males and females in normal temperature?\n",
    "\n",
    "What test did you use and why? \n",
    "\n",
    "permutation replicates\n",
    "\n",
    "Write a story with your conclusion in the context of the original problem.\n",
    "\n",
    "H0 = There is a significant difference between males and females. \n",
    "P-Value is slightly over 0.01, which means we can't reject the H0 and there is a difference between the Male and Female body temp."
   ]
  },
  {
   "cell_type": "code",
   "execution_count": 48,
   "metadata": {},
   "outputs": [],
   "source": [
    "Male = df[df.gender == 'M']['temperature']\n",
    "Female = df[df.gender == 'F']['temperature']"
   ]
  },
  {
   "cell_type": "code",
   "execution_count": 68,
   "metadata": {},
   "outputs": [
    {
     "data": {
      "image/png": "[encoded data removed]",
      "text/plain": [
       "<Figure size 432x288 with 1 Axes>"
      ]
     },
     "metadata": {},
     "output_type": "display_data"
    },
    {
     "name": "stdout",
     "output_type": "stream",
     "text": [
      "Actual difference in mean: 0.289230769230727 degrees Fahrenheit\n"
     ]
    }
   ],
   "source": [
    "f_x , f_y = ecdf(Male)\n",
    "m_x , m_y = ecdf (Female)\n",
    "\n",
    "plt.plot(f_x, f_y, marker = '.', linestyle='none')\n",
    "plt.plot(m_x, m_y, marker = '.', linestyle = 'none')\n",
    "\n",
    "plt.margins(0.02)\n",
    "plt.legend(('female','male'))\n",
    "\n",
    "plt.show()\n",
    "\n",
    "\n",
    "print('Actual difference in mean:' , observed_statistic , 'degrees Fahrenheit')\n"
   ]
  },
  {
   "cell_type": "code",
   "execution_count": 76,
   "metadata": {},
   "outputs": [],
   "source": [
    "def permutation_sample(data1 , data2):\n",
    "     \"\"\"Generate a permutation sample from two data sets.\"\"\"\n",
    "\n",
    "    # Concatenate the data sets: data\n",
    "     data = np.concatenate((data1 , data2))\n",
    "    # Permute the concatenated array: permuted_data\n",
    "     permutated_data = np.random.permutation(data)\n",
    "    \n",
    "    # Split the permuted array into two: perm_sample_1, perm_sample_2\n",
    "     perm_sample_1 = permutated_data[:len(data1)]\n",
    "     perm_sample_2 = permutated_data[len(data1):]\n",
    "     \n",
    "    \n",
    "    \n",
    "     return perm_sample_1 , perm_sample_2\n"
   ]
  },
  {
   "cell_type": "code",
   "execution_count": 78,
   "metadata": {},
   "outputs": [],
   "source": [
    "def draw_perm_reps(data1 , data2 , func , size):\n",
    "    \"\"\"Generate multiple permutation replicates.\"\"\"\n",
    "\n",
    "    # Initialize array of replicates: perm_replicates\n",
    "    perm_replicates = np.empty(size)\n",
    "    \n",
    "    for i in range(size) : \n",
    "        \n",
    "        perm_sample_1,  perm_sample_2 = permutation_sample(data1, data2)        \n",
    "        perm_replicates[i] = func(perm_sample_1) - func(perm_sample_2)\n",
    "        \n",
    "    return perm_replicates"
   ]
  },
  {
   "cell_type": "code",
   "execution_count": 79,
   "metadata": {},
   "outputs": [
    {
     "name": "stdout",
     "output_type": "stream",
     "text": [
      "P-Value :  0.012\n"
     ]
    }
   ],
   "source": [
    "observed_statistic = np.mean(Female) - np.mean(Male)\n",
    "\n",
    "perm_replicates = draw_perm_reps(Female , Male , np.mean , 100000)\n",
    "\n",
    "p_value = np.sum(perm_replicates >= observed_statistic) / len(perm_replicates)\n",
    "\n",
    "print ('P-Value : ', p_value)"
   ]
  },
  {
   "cell_type": "code",
   "execution_count": 83,
   "metadata": {},
   "outputs": [
    {
     "data": {
      "text/plain": [
       "2.3032202891940123"
      ]
     },
     "execution_count": 83,
     "metadata": {},
     "output_type": "execute_result"
    }
   ],
   "source": [
    "male = df[df.gender == 'M']['temperature']\n",
    "female = df[df.gender == 'F']['temperature']\n",
    "\n",
    "m_std = np.std(male)\n",
    "f_std = np.std(female)\n",
    "\n",
    "SE = np.sqrt((m_std ** 2 / len(male)) + (f_std ** 2 / len(female)))\n",
    "z = (np.mean(female)- np.mean(male))/ SE\n",
    "\n",
    "z"
   ]
  },
  {
   "cell_type": "code",
   "execution_count": 84,
   "metadata": {},
   "outputs": [
    {
     "data": {
      "text/plain": [
       "0.010633225915064675"
      ]
     },
     "execution_count": 84,
     "metadata": {},
     "output_type": "execute_result"
    }
   ],
   "source": [
    "p_value = scipy.stats.norm.sf(abs(z))\n",
    "p_value"
   ]
  },
  {
   "cell_type": "code",
   "execution_count": null,
   "metadata": {},
   "outputs": [],
   "source": []
  }
 ],
 "metadata": {
  "kernelspec": {
   "display_name": "Python 3",
   "language": "python",
   "name": "python3"
  },
  "language_info": {
   "codemirror_mode": {
    "name": "ipython",
    "version": 3
   },
   "file_extension": ".py",
   "mimetype": "text/x-python",
   "name": "python",
   "nbconvert_exporter": "python",
   "pygments_lexer": "ipython3",
   "version": "3.6.5"
  }
 },
 "nbformat": 4,
 "nbformat_minor": 1
}
