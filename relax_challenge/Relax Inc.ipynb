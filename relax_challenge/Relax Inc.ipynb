{
 "cells": [
  {
   "cell_type": "code",
   "execution_count": 1,
   "metadata": {},
   "outputs": [],
   "source": [
    "import pandas as pd\n",
    "import numpy as np\n",
    "import seaborn as sns\n",
    "import matplotlib.pyplot as plt\n"
   ]
  },
  {
   "cell_type": "code",
   "execution_count": 2,
   "metadata": {},
   "outputs": [
    {
     "name": "stdout",
     "output_type": "stream",
     "text": [
      "Untitled.ipynb                    takehome_user_engagement.csv\r\n",
      "relax_data_science_challenge.pdf  takehome_users.csv\r\n"
     ]
    }
   ],
   "source": [
    "ls"
   ]
  },
  {
   "cell_type": "code",
   "execution_count": 17,
   "metadata": {},
   "outputs": [],
   "source": [
    "df = pd.read_csv('takehome_users.csv' , encoding = 'ISO-8859-1')\n",
    "useage = pd.read_csv('takehome_user_engagement.csv' , encoding = 'ISO-8859-1' , )"
   ]
  },
  {
   "cell_type": "code",
   "execution_count": 6,
   "metadata": {},
   "outputs": [
    {
     "data": {
      "text/html": [
       "<div>\n",
       "<style scoped>\n",
       "    .dataframe tbody tr th:only-of-type {\n",
       "        vertical-align: middle;\n",
       "    }\n",
       "\n",
       "    .dataframe tbody tr th {\n",
       "        vertical-align: top;\n",
       "    }\n",
       "\n",
       "    .dataframe thead th {\n",
       "        text-align: right;\n",
       "    }\n",
       "</style>\n",
       "<table border=\"1\" class=\"dataframe\">\n",
       "  <thead>\n",
       "    <tr style=\"text-align: right;\">\n",
       "      <th></th>\n",
       "      <th>object_id</th>\n",
       "      <th>creation_time</th>\n",
       "      <th>name</th>\n",
       "      <th>email</th>\n",
       "      <th>creation_source</th>\n",
       "      <th>last_session_creation_time</th>\n",
       "      <th>opted_in_to_mailing_list</th>\n",
       "      <th>enabled_for_marketing_drip</th>\n",
       "      <th>org_id</th>\n",
       "      <th>invited_by_user_id</th>\n",
       "    </tr>\n",
       "  </thead>\n",
       "  <tbody>\n",
       "    <tr>\n",
       "      <th>0</th>\n",
       "      <td>1</td>\n",
       "      <td>2014-04-22 03:53:30</td>\n",
       "      <td>Clausen August</td>\n",
       "      <td>AugustCClausen@yahoo.com</td>\n",
       "      <td>GUEST_INVITE</td>\n",
       "      <td>1.398139e+09</td>\n",
       "      <td>1</td>\n",
       "      <td>0</td>\n",
       "      <td>11</td>\n",
       "      <td>10803.0</td>\n",
       "    </tr>\n",
       "    <tr>\n",
       "      <th>1</th>\n",
       "      <td>2</td>\n",
       "      <td>2013-11-15 03:45:04</td>\n",
       "      <td>Poole Matthew</td>\n",
       "      <td>MatthewPoole@gustr.com</td>\n",
       "      <td>ORG_INVITE</td>\n",
       "      <td>1.396238e+09</td>\n",
       "      <td>0</td>\n",
       "      <td>0</td>\n",
       "      <td>1</td>\n",
       "      <td>316.0</td>\n",
       "    </tr>\n",
       "    <tr>\n",
       "      <th>2</th>\n",
       "      <td>3</td>\n",
       "      <td>2013-03-19 23:14:52</td>\n",
       "      <td>Bottrill Mitchell</td>\n",
       "      <td>MitchellBottrill@gustr.com</td>\n",
       "      <td>ORG_INVITE</td>\n",
       "      <td>1.363735e+09</td>\n",
       "      <td>0</td>\n",
       "      <td>0</td>\n",
       "      <td>94</td>\n",
       "      <td>1525.0</td>\n",
       "    </tr>\n",
       "    <tr>\n",
       "      <th>3</th>\n",
       "      <td>4</td>\n",
       "      <td>2013-05-21 08:09:28</td>\n",
       "      <td>Clausen Nicklas</td>\n",
       "      <td>NicklasSClausen@yahoo.com</td>\n",
       "      <td>GUEST_INVITE</td>\n",
       "      <td>1.369210e+09</td>\n",
       "      <td>0</td>\n",
       "      <td>0</td>\n",
       "      <td>1</td>\n",
       "      <td>5151.0</td>\n",
       "    </tr>\n",
       "    <tr>\n",
       "      <th>4</th>\n",
       "      <td>5</td>\n",
       "      <td>2013-01-17 10:14:20</td>\n",
       "      <td>Raw Grace</td>\n",
       "      <td>GraceRaw@yahoo.com</td>\n",
       "      <td>GUEST_INVITE</td>\n",
       "      <td>1.358850e+09</td>\n",
       "      <td>0</td>\n",
       "      <td>0</td>\n",
       "      <td>193</td>\n",
       "      <td>5240.0</td>\n",
       "    </tr>\n",
       "  </tbody>\n",
       "</table>\n",
       "</div>"
      ],
      "text/plain": [
       "   object_id        creation_time               name  \\\n",
       "0          1  2014-04-22 03:53:30     Clausen August   \n",
       "1          2  2013-11-15 03:45:04      Poole Matthew   \n",
       "2          3  2013-03-19 23:14:52  Bottrill Mitchell   \n",
       "3          4  2013-05-21 08:09:28    Clausen Nicklas   \n",
       "4          5  2013-01-17 10:14:20          Raw Grace   \n",
       "\n",
       "                        email creation_source  last_session_creation_time  \\\n",
       "0    AugustCClausen@yahoo.com    GUEST_INVITE                1.398139e+09   \n",
       "1      MatthewPoole@gustr.com      ORG_INVITE                1.396238e+09   \n",
       "2  MitchellBottrill@gustr.com      ORG_INVITE                1.363735e+09   \n",
       "3   NicklasSClausen@yahoo.com    GUEST_INVITE                1.369210e+09   \n",
       "4          GraceRaw@yahoo.com    GUEST_INVITE                1.358850e+09   \n",
       "\n",
       "   opted_in_to_mailing_list  enabled_for_marketing_drip  org_id  \\\n",
       "0                         1                           0      11   \n",
       "1                         0                           0       1   \n",
       "2                         0                           0      94   \n",
       "3                         0                           0       1   \n",
       "4                         0                           0     193   \n",
       "\n",
       "   invited_by_user_id  \n",
       "0             10803.0  \n",
       "1               316.0  \n",
       "2              1525.0  \n",
       "3              5151.0  \n",
       "4              5240.0  "
      ]
     },
     "execution_count": 6,
     "metadata": {},
     "output_type": "execute_result"
    }
   ],
   "source": [
    "df.head()"
   ]
  },
  {
   "cell_type": "code",
   "execution_count": 7,
   "metadata": {},
   "outputs": [
    {
     "data": {
      "text/plain": [
       "object_id                        0\n",
       "creation_time                    0\n",
       "name                             0\n",
       "email                            0\n",
       "creation_source                  0\n",
       "last_session_creation_time    3177\n",
       "opted_in_to_mailing_list         0\n",
       "enabled_for_marketing_drip       0\n",
       "org_id                           0\n",
       "invited_by_user_id            5583\n",
       "dtype: int64"
      ]
     },
     "execution_count": 7,
     "metadata": {},
     "output_type": "execute_result"
    }
   ],
   "source": [
    "df.isnull().sum()"
   ]
  },
  {
   "cell_type": "code",
   "execution_count": 8,
   "metadata": {},
   "outputs": [
    {
     "name": "stdout",
     "output_type": "stream",
     "text": [
      "<class 'pandas.core.frame.DataFrame'>\n",
      "RangeIndex: 12000 entries, 0 to 11999\n",
      "Data columns (total 10 columns):\n",
      "object_id                     12000 non-null int64\n",
      "creation_time                 12000 non-null object\n",
      "name                          12000 non-null object\n",
      "email                         12000 non-null object\n",
      "creation_source               12000 non-null object\n",
      "last_session_creation_time    8823 non-null float64\n",
      "opted_in_to_mailing_list      12000 non-null int64\n",
      "enabled_for_marketing_drip    12000 non-null int64\n",
      "org_id                        12000 non-null int64\n",
      "invited_by_user_id            6417 non-null float64\n",
      "dtypes: float64(2), int64(4), object(4)\n",
      "memory usage: 937.6+ KB\n"
     ]
    }
   ],
   "source": [
    "df.info()"
   ]
  },
  {
   "cell_type": "code",
   "execution_count": 95,
   "metadata": {},
   "outputs": [],
   "source": [
    "df['creation_time'] = pd.to_datetime(df['creation_time'])"
   ]
  },
  {
   "cell_type": "code",
   "execution_count": 18,
   "metadata": {},
   "outputs": [
    {
     "data": {
      "text/html": [
       "<div>\n",
       "<style scoped>\n",
       "    .dataframe tbody tr th:only-of-type {\n",
       "        vertical-align: middle;\n",
       "    }\n",
       "\n",
       "    .dataframe tbody tr th {\n",
       "        vertical-align: top;\n",
       "    }\n",
       "\n",
       "    .dataframe thead th {\n",
       "        text-align: right;\n",
       "    }\n",
       "</style>\n",
       "<table border=\"1\" class=\"dataframe\">\n",
       "  <thead>\n",
       "    <tr style=\"text-align: right;\">\n",
       "      <th></th>\n",
       "      <th>time_stamp</th>\n",
       "      <th>user_id</th>\n",
       "      <th>visited</th>\n",
       "    </tr>\n",
       "  </thead>\n",
       "  <tbody>\n",
       "    <tr>\n",
       "      <th>0</th>\n",
       "      <td>2014-04-22 03:53:30</td>\n",
       "      <td>1</td>\n",
       "      <td>1</td>\n",
       "    </tr>\n",
       "    <tr>\n",
       "      <th>1</th>\n",
       "      <td>2013-11-15 03:45:04</td>\n",
       "      <td>2</td>\n",
       "      <td>1</td>\n",
       "    </tr>\n",
       "    <tr>\n",
       "      <th>2</th>\n",
       "      <td>2013-11-29 03:45:04</td>\n",
       "      <td>2</td>\n",
       "      <td>1</td>\n",
       "    </tr>\n",
       "    <tr>\n",
       "      <th>3</th>\n",
       "      <td>2013-12-09 03:45:04</td>\n",
       "      <td>2</td>\n",
       "      <td>1</td>\n",
       "    </tr>\n",
       "    <tr>\n",
       "      <th>4</th>\n",
       "      <td>2013-12-25 03:45:04</td>\n",
       "      <td>2</td>\n",
       "      <td>1</td>\n",
       "    </tr>\n",
       "  </tbody>\n",
       "</table>\n",
       "</div>"
      ],
      "text/plain": [
       "            time_stamp  user_id  visited\n",
       "0  2014-04-22 03:53:30        1        1\n",
       "1  2013-11-15 03:45:04        2        1\n",
       "2  2013-11-29 03:45:04        2        1\n",
       "3  2013-12-09 03:45:04        2        1\n",
       "4  2013-12-25 03:45:04        2        1"
      ]
     },
     "execution_count": 18,
     "metadata": {},
     "output_type": "execute_result"
    }
   ],
   "source": [
    "useage.head()"
   ]
  },
  {
   "cell_type": "code",
   "execution_count": 10,
   "metadata": {
    "scrolled": true
   },
   "outputs": [
    {
     "data": {
      "text/plain": [
       "time_stamp    0\n",
       "user_id       0\n",
       "visited       0\n",
       "dtype: int64"
      ]
     },
     "execution_count": 10,
     "metadata": {},
     "output_type": "execute_result"
    }
   ],
   "source": [
    "useage.isnull().sum()"
   ]
  },
  {
   "cell_type": "code",
   "execution_count": 11,
   "metadata": {},
   "outputs": [
    {
     "name": "stdout",
     "output_type": "stream",
     "text": [
      "<class 'pandas.core.frame.DataFrame'>\n",
      "RangeIndex: 207917 entries, 0 to 207916\n",
      "Data columns (total 3 columns):\n",
      "time_stamp    207917 non-null object\n",
      "user_id       207917 non-null int64\n",
      "visited       207917 non-null int64\n",
      "dtypes: int64(2), object(1)\n",
      "memory usage: 4.8+ MB\n"
     ]
    }
   ],
   "source": [
    "useage.info()"
   ]
  },
  {
   "cell_type": "code",
   "execution_count": 22,
   "metadata": {},
   "outputs": [],
   "source": [
    "useage['time_stamp'] = pd.to_datetime(useage['time_stamp'])\n",
    "useage.set_index('time_stamp' , inplace= True)"
   ]
  },
  {
   "cell_type": "code",
   "execution_count": 23,
   "metadata": {},
   "outputs": [
    {
     "name": "stdout",
     "output_type": "stream",
     "text": [
      "<class 'pandas.core.frame.DataFrame'>\n",
      "DatetimeIndex: 207917 entries, 2014-04-22 03:53:30 to 2014-01-26 08:57:12\n",
      "Data columns (total 2 columns):\n",
      "user_id    207917 non-null int64\n",
      "visited    207917 non-null int64\n",
      "dtypes: int64(2)\n",
      "memory usage: 4.8 MB\n"
     ]
    }
   ],
   "source": [
    "useage.info()"
   ]
  },
  {
   "cell_type": "code",
   "execution_count": 42,
   "metadata": {},
   "outputs": [],
   "source": [
    "test = useage.groupby('user_id').resample('7d').sum()"
   ]
  },
  {
   "cell_type": "code",
   "execution_count": 43,
   "metadata": {},
   "outputs": [
    {
     "data": {
      "text/plain": [
       "array([1, 0, 3, 2, 4, 5, 6, 7])"
      ]
     },
     "execution_count": 43,
     "metadata": {},
     "output_type": "execute_result"
    }
   ],
   "source": [
    "test.visited.unique()"
   ]
  },
  {
   "cell_type": "code",
   "execution_count": 68,
   "metadata": {},
   "outputs": [
    {
     "data": {
      "text/html": [
       "<div>\n",
       "<style scoped>\n",
       "    .dataframe tbody tr th:only-of-type {\n",
       "        vertical-align: middle;\n",
       "    }\n",
       "\n",
       "    .dataframe tbody tr th {\n",
       "        vertical-align: top;\n",
       "    }\n",
       "\n",
       "    .dataframe thead th {\n",
       "        text-align: right;\n",
       "    }\n",
       "</style>\n",
       "<table border=\"1\" class=\"dataframe\">\n",
       "  <thead>\n",
       "    <tr style=\"text-align: right;\">\n",
       "      <th></th>\n",
       "      <th></th>\n",
       "      <th>user_id</th>\n",
       "      <th>visited</th>\n",
       "    </tr>\n",
       "    <tr>\n",
       "      <th>user_id</th>\n",
       "      <th>time_stamp</th>\n",
       "      <th></th>\n",
       "      <th></th>\n",
       "    </tr>\n",
       "  </thead>\n",
       "  <tbody>\n",
       "    <tr>\n",
       "      <th>1</th>\n",
       "      <th>2014-04-22 03:53:30</th>\n",
       "      <td>1</td>\n",
       "      <td>1</td>\n",
       "    </tr>\n",
       "    <tr>\n",
       "      <th rowspan=\"4\" valign=\"top\">2</th>\n",
       "      <th>2013-11-15 03:45:04</th>\n",
       "      <td>2</td>\n",
       "      <td>1</td>\n",
       "    </tr>\n",
       "    <tr>\n",
       "      <th>2013-11-22 03:45:04</th>\n",
       "      <td>0</td>\n",
       "      <td>0</td>\n",
       "    </tr>\n",
       "    <tr>\n",
       "      <th>2013-11-29 03:45:04</th>\n",
       "      <td>2</td>\n",
       "      <td>1</td>\n",
       "    </tr>\n",
       "    <tr>\n",
       "      <th>2013-12-06 03:45:04</th>\n",
       "      <td>2</td>\n",
       "      <td>1</td>\n",
       "    </tr>\n",
       "  </tbody>\n",
       "</table>\n",
       "</div>"
      ],
      "text/plain": [
       "                             user_id  visited\n",
       "user_id time_stamp                           \n",
       "1       2014-04-22 03:53:30        1        1\n",
       "2       2013-11-15 03:45:04        2        1\n",
       "        2013-11-22 03:45:04        0        0\n",
       "        2013-11-29 03:45:04        2        1\n",
       "        2013-12-06 03:45:04        2        1"
      ]
     },
     "execution_count": 68,
     "metadata": {},
     "output_type": "execute_result"
    }
   ],
   "source": [
    "test.head()"
   ]
  },
  {
   "cell_type": "code",
   "execution_count": 73,
   "metadata": {},
   "outputs": [],
   "source": [
    "adopted_user = test[test.visited > 3]"
   ]
  },
  {
   "cell_type": "code",
   "execution_count": 78,
   "metadata": {},
   "outputs": [
    {
     "name": "stderr",
     "output_type": "stream",
     "text": [
      "/anaconda3/lib/python3.7/site-packages/ipykernel_launcher.py:1: SettingWithCopyWarning: \n",
      "A value is trying to be set on a copy of a slice from a DataFrame.\n",
      "Try using .loc[row_indexer,col_indexer] = value instead\n",
      "\n",
      "See the caveats in the documentation: http://pandas.pydata.org/pandas-docs/stable/indexing.html#indexing-view-versus-copy\n",
      "  \"\"\"Entry point for launching an IPython kernel.\n"
     ]
    }
   ],
   "source": [
    "adopted_user['object_id'] = adopted_user['user_id'] / adopted_user['visited']"
   ]
  },
  {
   "cell_type": "code",
   "execution_count": 80,
   "metadata": {},
   "outputs": [
    {
     "name": "stderr",
     "output_type": "stream",
     "text": [
      "/anaconda3/lib/python3.7/site-packages/ipykernel_launcher.py:1: SettingWithCopyWarning: \n",
      "A value is trying to be set on a copy of a slice from a DataFrame.\n",
      "Try using .loc[row_indexer,col_indexer] = value instead\n",
      "\n",
      "See the caveats in the documentation: http://pandas.pydata.org/pandas-docs/stable/indexing.html#indexing-view-versus-copy\n",
      "  \"\"\"Entry point for launching an IPython kernel.\n"
     ]
    }
   ],
   "source": [
    "adopted_user['object_id'] = adopted_user['object_id'].astype(int)"
   ]
  },
  {
   "cell_type": "code",
   "execution_count": 82,
   "metadata": {},
   "outputs": [],
   "source": [
    "del adopted_user['user_id']"
   ]
  },
  {
   "cell_type": "code",
   "execution_count": 91,
   "metadata": {},
   "outputs": [
    {
     "data": {
      "text/plain": [
       "1188"
      ]
     },
     "execution_count": 91,
     "metadata": {},
     "output_type": "execute_result"
    }
   ],
   "source": [
    "len(adopted_user['object_id'].unique())"
   ]
  },
  {
   "cell_type": "code",
   "execution_count": 85,
   "metadata": {},
   "outputs": [],
   "source": [
    "df['adopted_user'] = df['object_id'].apply(lambda x : 1 if x in adopted_user['object_id'] else 0)"
   ]
  },
  {
   "cell_type": "code",
   "execution_count": 86,
   "metadata": {},
   "outputs": [
    {
     "data": {
      "text/plain": [
       "0    10812\n",
       "1     1188\n",
       "Name: adopted_user, dtype: int64"
      ]
     },
     "execution_count": 86,
     "metadata": {},
     "output_type": "execute_result"
    }
   ],
   "source": [
    "df['adopted_user'].value_counts()"
   ]
  },
  {
   "cell_type": "code",
   "execution_count": 101,
   "metadata": {},
   "outputs": [
    {
     "data": {
      "text/plain": [
       "object_id                        0\n",
       "creation_time                    0\n",
       "name                             0\n",
       "email                            0\n",
       "creation_source                  0\n",
       "last_session_creation_time    3177\n",
       "opted_in_to_mailing_list         0\n",
       "enabled_for_marketing_drip       0\n",
       "org_id                           0\n",
       "invited_by_user_id            5583\n",
       "adopted_user                     0\n",
       "dtype: int64"
      ]
     },
     "execution_count": 101,
     "metadata": {},
     "output_type": "execute_result"
    }
   ],
   "source": [
    "df.isnull().sum()"
   ]
  },
  {
   "cell_type": "code",
   "execution_count": 100,
   "metadata": {},
   "outputs": [
    {
     "data": {
      "text/plain": [
       "PERSONAL_PROJECTS     2111\n",
       "SIGNUP                2087\n",
       "SIGNUP_GOOGLE_AUTH    1385\n",
       "Name: creation_source, dtype: int64"
      ]
     },
     "execution_count": 100,
     "metadata": {},
     "output_type": "execute_result"
    }
   ],
   "source": [
    "df[df['invited_by_user_id'].isnull()]['creation_source'].value_counts()"
   ]
  },
  {
   "cell_type": "code",
   "execution_count": 105,
   "metadata": {},
   "outputs": [
    {
     "data": {
      "text/plain": [
       "ORG_INVITE      4254\n",
       "GUEST_INVITE    2163\n",
       "Name: creation_source, dtype: int64"
      ]
     },
     "execution_count": 105,
     "metadata": {},
     "output_type": "execute_result"
    }
   ],
   "source": [
    "df[~(df['invited_by_user_id'].isnull())]['creation_source'].value_counts()"
   ]
  },
  {
   "cell_type": "code",
   "execution_count": 102,
   "metadata": {},
   "outputs": [],
   "source": [
    "df['last_session_creation_time'] = pd.to_datetime(df['last_session_creation_time'])"
   ]
  },
  {
   "cell_type": "code",
   "execution_count": 104,
   "metadata": {},
   "outputs": [
    {
     "data": {
      "text/html": [
       "<div>\n",
       "<style scoped>\n",
       "    .dataframe tbody tr th:only-of-type {\n",
       "        vertical-align: middle;\n",
       "    }\n",
       "\n",
       "    .dataframe tbody tr th {\n",
       "        vertical-align: top;\n",
       "    }\n",
       "\n",
       "    .dataframe thead th {\n",
       "        text-align: right;\n",
       "    }\n",
       "</style>\n",
       "<table border=\"1\" class=\"dataframe\">\n",
       "  <thead>\n",
       "    <tr style=\"text-align: right;\">\n",
       "      <th></th>\n",
       "      <th>object_id</th>\n",
       "      <th>creation_time</th>\n",
       "      <th>name</th>\n",
       "      <th>email</th>\n",
       "      <th>creation_source</th>\n",
       "      <th>last_session_creation_time</th>\n",
       "      <th>opted_in_to_mailing_list</th>\n",
       "      <th>enabled_for_marketing_drip</th>\n",
       "      <th>org_id</th>\n",
       "      <th>invited_by_user_id</th>\n",
       "      <th>adopted_user</th>\n",
       "    </tr>\n",
       "  </thead>\n",
       "  <tbody>\n",
       "    <tr>\n",
       "      <th>0</th>\n",
       "      <td>1</td>\n",
       "      <td>2014-04-22 03:53:30</td>\n",
       "      <td>Clausen August</td>\n",
       "      <td>AugustCClausen@yahoo.com</td>\n",
       "      <td>GUEST_INVITE</td>\n",
       "      <td>1970-01-01 00:00:01.398138810</td>\n",
       "      <td>1</td>\n",
       "      <td>0</td>\n",
       "      <td>11</td>\n",
       "      <td>10803.0</td>\n",
       "      <td>0</td>\n",
       "    </tr>\n",
       "    <tr>\n",
       "      <th>1</th>\n",
       "      <td>2</td>\n",
       "      <td>2013-11-15 03:45:04</td>\n",
       "      <td>Poole Matthew</td>\n",
       "      <td>MatthewPoole@gustr.com</td>\n",
       "      <td>ORG_INVITE</td>\n",
       "      <td>1970-01-01 00:00:01.396237504</td>\n",
       "      <td>0</td>\n",
       "      <td>0</td>\n",
       "      <td>1</td>\n",
       "      <td>316.0</td>\n",
       "      <td>0</td>\n",
       "    </tr>\n",
       "  </tbody>\n",
       "</table>\n",
       "</div>"
      ],
      "text/plain": [
       "   object_id       creation_time            name                     email  \\\n",
       "0          1 2014-04-22 03:53:30  Clausen August  AugustCClausen@yahoo.com   \n",
       "1          2 2013-11-15 03:45:04   Poole Matthew    MatthewPoole@gustr.com   \n",
       "\n",
       "  creation_source    last_session_creation_time  opted_in_to_mailing_list  \\\n",
       "0    GUEST_INVITE 1970-01-01 00:00:01.398138810                         1   \n",
       "1      ORG_INVITE 1970-01-01 00:00:01.396237504                         0   \n",
       "\n",
       "   enabled_for_marketing_drip  org_id  invited_by_user_id  adopted_user  \n",
       "0                           0      11             10803.0             0  \n",
       "1                           0       1               316.0             0  "
      ]
     },
     "execution_count": 104,
     "metadata": {},
     "output_type": "execute_result"
    }
   ],
   "source": [
    "df.head(2)"
   ]
  },
  {
   "cell_type": "markdown",
   "metadata": {},
   "source": [
    "There are two features in our dataset and I decided to remove them from our training set. \n",
    "\n",
    "\"last_session_creation_time\" is unix timestamp of last login. Originally was restored as float and after converting its data type to datetime, it represented bogus values. \n",
    "\n",
    "As for \"invited_by_user_id\", there can't be any values for two categories of \"SIGNUP\" and \"SIGNUP_GOOGLE_AUTH\". That's around 29% of oour data. "
   ]
  },
  {
   "cell_type": "code",
   "execution_count": 128,
   "metadata": {},
   "outputs": [
    {
     "data": {
      "text/plain": [
       "ORG_INVITE            4254\n",
       "GUEST_INVITE          2163\n",
       "PERSONAL_PROJECTS     2111\n",
       "SIGNUP                2087\n",
       "SIGNUP_GOOGLE_AUTH    1385\n",
       "Name: creation_source, dtype: int64"
      ]
     },
     "execution_count": 128,
     "metadata": {},
     "output_type": "execute_result"
    }
   ],
   "source": [
    "df['creation_source'].value_counts()"
   ]
  },
  {
   "cell_type": "code",
   "execution_count": 174,
   "metadata": {},
   "outputs": [
    {
     "name": "stderr",
     "output_type": "stream",
     "text": [
      "/anaconda3/lib/python3.7/site-packages/numpy/lib/histograms.py:754: RuntimeWarning: invalid value encountered in greater_equal\n",
      "  keep = (tmp_a >= first_edge)\n",
      "/anaconda3/lib/python3.7/site-packages/numpy/lib/histograms.py:755: RuntimeWarning: invalid value encountered in less_equal\n",
      "  keep &= (tmp_a <= last_edge)\n"
     ]
    },
    {
     "data": {
      "text/plain": [
       "<seaborn.axisgrid.PairGrid at 0x1a329534a8>"
      ]
     },
     "execution_count": 174,
     "metadata": {},
     "output_type": "execute_result"
    },
    {
     "data": {
      "image/png": "[encoded data removed]",
      "text/plain": [
       "<Figure size 1080x1080 with 42 Axes>"
      ]
     },
     "metadata": {},
     "output_type": "display_data"
    }
   ],
   "source": [
    "sns.pairplot(df)"
   ]
  },
  {
   "cell_type": "code",
   "execution_count": 180,
   "metadata": {},
   "outputs": [
    {
     "data": {
      "text/plain": [
       "<matplotlib.axes._subplots.AxesSubplot at 0x1a3c53c5c0>"
      ]
     },
     "execution_count": 180,
     "metadata": {},
     "output_type": "execute_result"
    },
    {
     "data": {
      "image/png": "[encoded data removed]",
      "text/plain": [
       "<Figure size 1080x1080 with 1 Axes>"
      ]
     },
     "metadata": {},
     "output_type": "display_data"
    }
   ],
   "source": [
    "df['creation_source'].value_counts().plot(kind = 'bar')"
   ]
  },
  {
   "cell_type": "code",
   "execution_count": 184,
   "metadata": {},
   "outputs": [
    {
     "data": {
      "image/png": "[encoded data removed]",
      "text/plain": [
       "<Figure size 1080x1080 with 1 Axes>"
      ]
     },
     "metadata": {},
     "output_type": "display_data"
    }
   ],
   "source": [
    "_ = df.groupby(['adopted_user' , 'creation_source'])['adopted_user'].count().unstack().T.plot(kind = 'bar')"
   ]
  },
  {
   "cell_type": "code",
   "execution_count": 202,
   "metadata": {},
   "outputs": [
    {
     "data": {
      "text/plain": [
       "<matplotlib.axes._subplots.AxesSubplot at 0x1a347a6588>"
      ]
     },
     "execution_count": 202,
     "metadata": {},
     "output_type": "execute_result"
    },
    {
     "data": {
      "image/png": "[encoded data removed]",
      "text/plain": [
       "<Figure size 1080x1080 with 1 Axes>"
      ]
     },
     "metadata": {},
     "output_type": "display_data"
    }
   ],
   "source": [
    "\n",
    "df.groupby(['creation_source','enabled_for_marketing_drip'])['creation_source'].count().unstack().plot(kind = 'bar')"
   ]
  },
  {
   "cell_type": "code",
   "execution_count": 172,
   "metadata": {},
   "outputs": [
    {
     "data": {
      "image/png": "[encoded data removed]",
      "text/plain": [
       "<Figure size 431.175x360 with 1 Axes>"
      ]
     },
     "metadata": {},
     "output_type": "display_data"
    }
   ],
   "source": [
    "_ = sns.catplot(y='enabled_for_marketing_drip', hue='adopted_user', kind=\"count\",\n",
    "            palette=\"pastel\", edgecolor=\".6\",\n",
    "            data=df)"
   ]
  },
  {
   "cell_type": "code",
   "execution_count": 169,
   "metadata": {},
   "outputs": [
    {
     "data": {
      "text/plain": [
       "<seaborn.axisgrid.FacetGrid at 0x1a34a0c860>"
      ]
     },
     "execution_count": 169,
     "metadata": {},
     "output_type": "execute_result"
    },
    {
     "data": {
      "image/png": "[encoded data removed]",
      "text/plain": [
       "<Figure size 431.175x360 with 1 Axes>"
      ]
     },
     "metadata": {},
     "output_type": "display_data"
    }
   ],
   "source": [
    "sns.catplot(y=\"enabled_for_marketing_drip\", hue=\"adopted_user\", kind=\"count\",\n",
    "            palette=\"pastel\", edgecolor=\".6\",\n",
    "            data=df)"
   ]
  },
  {
   "cell_type": "code",
   "execution_count": 170,
   "metadata": {},
   "outputs": [
    {
     "data": {
      "text/plain": [
       "<seaborn.axisgrid.FacetGrid at 0x1a351d47b8>"
      ]
     },
     "execution_count": 170,
     "metadata": {},
     "output_type": "execute_result"
    },
    {
     "data": {
      "image/png": "[encoded data removed]",
      "text/plain": [
       "<Figure size 477.925x360 with 1 Axes>"
      ]
     },
     "metadata": {},
     "output_type": "display_data"
    }
   ],
   "source": [
    "sns.catplot(y=\"enabled_for_marketing_drip\", hue=\"opted_in_to_mailing_list\", kind=\"count\",\n",
    "            palette=\"pastel\", edgecolor=\".6\",\n",
    "            data=df)"
   ]
  },
  {
   "cell_type": "code",
   "execution_count": 211,
   "metadata": {},
   "outputs": [
    {
     "data": {
      "text/html": [
       "<div>\n",
       "<style scoped>\n",
       "    .dataframe tbody tr th:only-of-type {\n",
       "        vertical-align: middle;\n",
       "    }\n",
       "\n",
       "    .dataframe tbody tr th {\n",
       "        vertical-align: top;\n",
       "    }\n",
       "\n",
       "    .dataframe thead th {\n",
       "        text-align: right;\n",
       "    }\n",
       "</style>\n",
       "<table border=\"1\" class=\"dataframe\">\n",
       "  <thead>\n",
       "    <tr style=\"text-align: right;\">\n",
       "      <th></th>\n",
       "      <th>object_id</th>\n",
       "      <th>opted_in_to_mailing_list</th>\n",
       "      <th>enabled_for_marketing_drip</th>\n",
       "      <th>org_id</th>\n",
       "      <th>invited_by_user_id</th>\n",
       "      <th>adopted_user</th>\n",
       "    </tr>\n",
       "  </thead>\n",
       "  <tbody>\n",
       "    <tr>\n",
       "      <th>object_id</th>\n",
       "      <td>1.000000</td>\n",
       "      <td>-0.032370</td>\n",
       "      <td>-0.022040</td>\n",
       "      <td>0.004110</td>\n",
       "      <td>0.018699</td>\n",
       "      <td>0.000961</td>\n",
       "    </tr>\n",
       "    <tr>\n",
       "      <th>opted_in_to_mailing_list</th>\n",
       "      <td>-0.032370</td>\n",
       "      <td>1.000000</td>\n",
       "      <td>0.483529</td>\n",
       "      <td>0.003432</td>\n",
       "      <td>0.004699</td>\n",
       "      <td>0.015214</td>\n",
       "    </tr>\n",
       "    <tr>\n",
       "      <th>enabled_for_marketing_drip</th>\n",
       "      <td>-0.022040</td>\n",
       "      <td>0.483529</td>\n",
       "      <td>1.000000</td>\n",
       "      <td>0.009275</td>\n",
       "      <td>0.003687</td>\n",
       "      <td>0.003595</td>\n",
       "    </tr>\n",
       "    <tr>\n",
       "      <th>org_id</th>\n",
       "      <td>0.004110</td>\n",
       "      <td>0.003432</td>\n",
       "      <td>0.009275</td>\n",
       "      <td>1.000000</td>\n",
       "      <td>-0.057780</td>\n",
       "      <td>0.052147</td>\n",
       "    </tr>\n",
       "    <tr>\n",
       "      <th>invited_by_user_id</th>\n",
       "      <td>0.018699</td>\n",
       "      <td>0.004699</td>\n",
       "      <td>0.003687</td>\n",
       "      <td>-0.057780</td>\n",
       "      <td>1.000000</td>\n",
       "      <td>-0.003429</td>\n",
       "    </tr>\n",
       "    <tr>\n",
       "      <th>adopted_user</th>\n",
       "      <td>0.000961</td>\n",
       "      <td>0.015214</td>\n",
       "      <td>0.003595</td>\n",
       "      <td>0.052147</td>\n",
       "      <td>-0.003429</td>\n",
       "      <td>1.000000</td>\n",
       "    </tr>\n",
       "  </tbody>\n",
       "</table>\n",
       "</div>"
      ],
      "text/plain": [
       "                            object_id  opted_in_to_mailing_list  \\\n",
       "object_id                    1.000000                 -0.032370   \n",
       "opted_in_to_mailing_list    -0.032370                  1.000000   \n",
       "enabled_for_marketing_drip  -0.022040                  0.483529   \n",
       "org_id                       0.004110                  0.003432   \n",
       "invited_by_user_id           0.018699                  0.004699   \n",
       "adopted_user                 0.000961                  0.015214   \n",
       "\n",
       "                            enabled_for_marketing_drip    org_id  \\\n",
       "object_id                                    -0.022040  0.004110   \n",
       "opted_in_to_mailing_list                      0.483529  0.003432   \n",
       "enabled_for_marketing_drip                    1.000000  0.009275   \n",
       "org_id                                        0.009275  1.000000   \n",
       "invited_by_user_id                            0.003687 -0.057780   \n",
       "adopted_user                                  0.003595  0.052147   \n",
       "\n",
       "                            invited_by_user_id  adopted_user  \n",
       "object_id                             0.018699      0.000961  \n",
       "opted_in_to_mailing_list              0.004699      0.015214  \n",
       "enabled_for_marketing_drip            0.003687      0.003595  \n",
       "org_id                               -0.057780      0.052147  \n",
       "invited_by_user_id                    1.000000     -0.003429  \n",
       "adopted_user                         -0.003429      1.000000  "
      ]
     },
     "execution_count": 211,
     "metadata": {},
     "output_type": "execute_result"
    }
   ],
   "source": [
    "corr = df.corr()\n",
    "corr"
   ]
  },
  {
   "cell_type": "code",
   "execution_count": 210,
   "metadata": {},
   "outputs": [
    {
     "data": {
      "text/plain": [
       "array([[False, False, False, False, False, False],\n",
       "       [False, False, False, False, False, False],\n",
       "       [False, False, False, False, False, False],\n",
       "       [False, False, False, False, False, False],\n",
       "       [False, False, False, False, False, False],\n",
       "       [False, False, False, False, False, False]])"
      ]
     },
     "execution_count": 210,
     "metadata": {},
     "output_type": "execute_result"
    }
   ],
   "source": [
    "(abs(corr.values) >= 0.5) & (abs(corr.values)  < 1)"
   ]
  },
  {
   "cell_type": "code",
   "execution_count": 212,
   "metadata": {},
   "outputs": [
    {
     "name": "stdout",
     "output_type": "stream",
     "text": [
      "<class 'pandas.core.frame.DataFrame'>\n",
      "RangeIndex: 12000 entries, 0 to 11999\n",
      "Data columns (total 11 columns):\n",
      "object_id                     12000 non-null int64\n",
      "creation_time                 12000 non-null datetime64[ns]\n",
      "name                          12000 non-null object\n",
      "email                         12000 non-null object\n",
      "creation_source               12000 non-null object\n",
      "last_session_creation_time    8823 non-null datetime64[ns]\n",
      "opted_in_to_mailing_list      12000 non-null int64\n",
      "enabled_for_marketing_drip    12000 non-null int64\n",
      "org_id                        12000 non-null int64\n",
      "invited_by_user_id            6417 non-null float64\n",
      "adopted_user                  12000 non-null int64\n",
      "dtypes: datetime64[ns](2), float64(1), int64(5), object(3)\n",
      "memory usage: 1.0+ MB\n"
     ]
    }
   ],
   "source": [
    "df.info()"
   ]
  },
  {
   "cell_type": "code",
   "execution_count": null,
   "metadata": {},
   "outputs": [],
   "source": []
  },
  {
   "cell_type": "code",
   "execution_count": 218,
   "metadata": {},
   "outputs": [],
   "source": [
    "categorical = ['creation_source' , 'opted_in_to_mailing_list' , 'enabled_for_marketing_drip' ]\n",
    "\n",
    "df_dummy = pd.get_dummies(df, columns=categorical)"
   ]
  },
  {
   "cell_type": "code",
   "execution_count": 219,
   "metadata": {},
   "outputs": [
    {
     "data": {
      "text/html": [
       "<div>\n",
       "<style scoped>\n",
       "    .dataframe tbody tr th:only-of-type {\n",
       "        vertical-align: middle;\n",
       "    }\n",
       "\n",
       "    .dataframe tbody tr th {\n",
       "        vertical-align: top;\n",
       "    }\n",
       "\n",
       "    .dataframe thead th {\n",
       "        text-align: right;\n",
       "    }\n",
       "</style>\n",
       "<table border=\"1\" class=\"dataframe\">\n",
       "  <thead>\n",
       "    <tr style=\"text-align: right;\">\n",
       "      <th></th>\n",
       "      <th>object_id</th>\n",
       "      <th>creation_time</th>\n",
       "      <th>name</th>\n",
       "      <th>email</th>\n",
       "      <th>last_session_creation_time</th>\n",
       "      <th>org_id</th>\n",
       "      <th>invited_by_user_id</th>\n",
       "      <th>adopted_user</th>\n",
       "      <th>creation_source_GUEST_INVITE</th>\n",
       "      <th>creation_source_ORG_INVITE</th>\n",
       "      <th>creation_source_PERSONAL_PROJECTS</th>\n",
       "      <th>creation_source_SIGNUP</th>\n",
       "      <th>creation_source_SIGNUP_GOOGLE_AUTH</th>\n",
       "      <th>opted_in_to_mailing_list_0</th>\n",
       "      <th>opted_in_to_mailing_list_1</th>\n",
       "      <th>enabled_for_marketing_drip_0</th>\n",
       "      <th>enabled_for_marketing_drip_1</th>\n",
       "    </tr>\n",
       "  </thead>\n",
       "  <tbody>\n",
       "    <tr>\n",
       "      <th>0</th>\n",
       "      <td>1</td>\n",
       "      <td>2014-04-22 03:53:30</td>\n",
       "      <td>Clausen August</td>\n",
       "      <td>AugustCClausen@yahoo.com</td>\n",
       "      <td>1970-01-01 00:00:01.398138810</td>\n",
       "      <td>11</td>\n",
       "      <td>10803.0</td>\n",
       "      <td>0</td>\n",
       "      <td>1</td>\n",
       "      <td>0</td>\n",
       "      <td>0</td>\n",
       "      <td>0</td>\n",
       "      <td>0</td>\n",
       "      <td>0</td>\n",
       "      <td>1</td>\n",
       "      <td>1</td>\n",
       "      <td>0</td>\n",
       "    </tr>\n",
       "    <tr>\n",
       "      <th>1</th>\n",
       "      <td>2</td>\n",
       "      <td>2013-11-15 03:45:04</td>\n",
       "      <td>Poole Matthew</td>\n",
       "      <td>MatthewPoole@gustr.com</td>\n",
       "      <td>1970-01-01 00:00:01.396237504</td>\n",
       "      <td>1</td>\n",
       "      <td>316.0</td>\n",
       "      <td>0</td>\n",
       "      <td>0</td>\n",
       "      <td>1</td>\n",
       "      <td>0</td>\n",
       "      <td>0</td>\n",
       "      <td>0</td>\n",
       "      <td>1</td>\n",
       "      <td>0</td>\n",
       "      <td>1</td>\n",
       "      <td>0</td>\n",
       "    </tr>\n",
       "    <tr>\n",
       "      <th>2</th>\n",
       "      <td>3</td>\n",
       "      <td>2013-03-19 23:14:52</td>\n",
       "      <td>Bottrill Mitchell</td>\n",
       "      <td>MitchellBottrill@gustr.com</td>\n",
       "      <td>1970-01-01 00:00:01.363734892</td>\n",
       "      <td>94</td>\n",
       "      <td>1525.0</td>\n",
       "      <td>0</td>\n",
       "      <td>0</td>\n",
       "      <td>1</td>\n",
       "      <td>0</td>\n",
       "      <td>0</td>\n",
       "      <td>0</td>\n",
       "      <td>1</td>\n",
       "      <td>0</td>\n",
       "      <td>1</td>\n",
       "      <td>0</td>\n",
       "    </tr>\n",
       "    <tr>\n",
       "      <th>3</th>\n",
       "      <td>4</td>\n",
       "      <td>2013-05-21 08:09:28</td>\n",
       "      <td>Clausen Nicklas</td>\n",
       "      <td>NicklasSClausen@yahoo.com</td>\n",
       "      <td>1970-01-01 00:00:01.369210168</td>\n",
       "      <td>1</td>\n",
       "      <td>5151.0</td>\n",
       "      <td>0</td>\n",
       "      <td>1</td>\n",
       "      <td>0</td>\n",
       "      <td>0</td>\n",
       "      <td>0</td>\n",
       "      <td>0</td>\n",
       "      <td>1</td>\n",
       "      <td>0</td>\n",
       "      <td>1</td>\n",
       "      <td>0</td>\n",
       "    </tr>\n",
       "    <tr>\n",
       "      <th>4</th>\n",
       "      <td>5</td>\n",
       "      <td>2013-01-17 10:14:20</td>\n",
       "      <td>Raw Grace</td>\n",
       "      <td>GraceRaw@yahoo.com</td>\n",
       "      <td>1970-01-01 00:00:01.358849660</td>\n",
       "      <td>193</td>\n",
       "      <td>5240.0</td>\n",
       "      <td>0</td>\n",
       "      <td>1</td>\n",
       "      <td>0</td>\n",
       "      <td>0</td>\n",
       "      <td>0</td>\n",
       "      <td>0</td>\n",
       "      <td>1</td>\n",
       "      <td>0</td>\n",
       "      <td>1</td>\n",
       "      <td>0</td>\n",
       "    </tr>\n",
       "    <tr>\n",
       "      <th>5</th>\n",
       "      <td>6</td>\n",
       "      <td>2013-12-17 03:37:06</td>\n",
       "      <td>Cunha Eduardo</td>\n",
       "      <td>EduardoPereiraCunha@yahoo.com</td>\n",
       "      <td>1970-01-01 00:00:01.387424226</td>\n",
       "      <td>197</td>\n",
       "      <td>11241.0</td>\n",
       "      <td>0</td>\n",
       "      <td>1</td>\n",
       "      <td>0</td>\n",
       "      <td>0</td>\n",
       "      <td>0</td>\n",
       "      <td>0</td>\n",
       "      <td>1</td>\n",
       "      <td>0</td>\n",
       "      <td>1</td>\n",
       "      <td>0</td>\n",
       "    </tr>\n",
       "    <tr>\n",
       "      <th>6</th>\n",
       "      <td>7</td>\n",
       "      <td>2012-12-16 13:24:32</td>\n",
       "      <td>Sewell Tyler</td>\n",
       "      <td>TylerSewell@jourrapide.com</td>\n",
       "      <td>1970-01-01 00:00:01.356009872</td>\n",
       "      <td>37</td>\n",
       "      <td>NaN</td>\n",
       "      <td>0</td>\n",
       "      <td>0</td>\n",
       "      <td>0</td>\n",
       "      <td>0</td>\n",
       "      <td>1</td>\n",
       "      <td>0</td>\n",
       "      <td>1</td>\n",
       "      <td>0</td>\n",
       "      <td>0</td>\n",
       "      <td>1</td>\n",
       "    </tr>\n",
       "    <tr>\n",
       "      <th>7</th>\n",
       "      <td>8</td>\n",
       "      <td>2013-07-31 05:34:02</td>\n",
       "      <td>Hamilton Danielle</td>\n",
       "      <td>DanielleHamilton@yahoo.com</td>\n",
       "      <td>NaT</td>\n",
       "      <td>74</td>\n",
       "      <td>NaN</td>\n",
       "      <td>0</td>\n",
       "      <td>0</td>\n",
       "      <td>0</td>\n",
       "      <td>1</td>\n",
       "      <td>0</td>\n",
       "      <td>0</td>\n",
       "      <td>0</td>\n",
       "      <td>1</td>\n",
       "      <td>0</td>\n",
       "      <td>1</td>\n",
       "    </tr>\n",
       "    <tr>\n",
       "      <th>8</th>\n",
       "      <td>9</td>\n",
       "      <td>2013-11-05 04:04:24</td>\n",
       "      <td>Amsel Paul</td>\n",
       "      <td>PaulAmsel@hotmail.com</td>\n",
       "      <td>NaT</td>\n",
       "      <td>302</td>\n",
       "      <td>NaN</td>\n",
       "      <td>0</td>\n",
       "      <td>0</td>\n",
       "      <td>0</td>\n",
       "      <td>1</td>\n",
       "      <td>0</td>\n",
       "      <td>0</td>\n",
       "      <td>1</td>\n",
       "      <td>0</td>\n",
       "      <td>1</td>\n",
       "      <td>0</td>\n",
       "    </tr>\n",
       "    <tr>\n",
       "      <th>9</th>\n",
       "      <td>10</td>\n",
       "      <td>2013-01-16 22:08:03</td>\n",
       "      <td>Santos Carla</td>\n",
       "      <td>CarlaFerreiraSantos@gustr.com</td>\n",
       "      <td>1970-01-01 00:00:01.401833283</td>\n",
       "      <td>318</td>\n",
       "      <td>4143.0</td>\n",
       "      <td>1</td>\n",
       "      <td>0</td>\n",
       "      <td>1</td>\n",
       "      <td>0</td>\n",
       "      <td>0</td>\n",
       "      <td>0</td>\n",
       "      <td>0</td>\n",
       "      <td>1</td>\n",
       "      <td>0</td>\n",
       "      <td>1</td>\n",
       "    </tr>\n",
       "    <tr>\n",
       "      <th>10</th>\n",
       "      <td>11</td>\n",
       "      <td>2013-12-26 03:55:54</td>\n",
       "      <td>Paulsen Malthe</td>\n",
       "      <td>MaltheAPaulsen@gustr.com</td>\n",
       "      <td>1970-01-01 00:00:01.388116554</td>\n",
       "      <td>69</td>\n",
       "      <td>NaN</td>\n",
       "      <td>0</td>\n",
       "      <td>0</td>\n",
       "      <td>0</td>\n",
       "      <td>0</td>\n",
       "      <td>1</td>\n",
       "      <td>0</td>\n",
       "      <td>1</td>\n",
       "      <td>0</td>\n",
       "      <td>1</td>\n",
       "      <td>0</td>\n",
       "    </tr>\n",
       "    <tr>\n",
       "      <th>11</th>\n",
       "      <td>12</td>\n",
       "      <td>2014-04-17 23:48:38</td>\n",
       "      <td>Mathiesen Lærke</td>\n",
       "      <td>LaerkeLMathiesen@cuvox.de</td>\n",
       "      <td>NaT</td>\n",
       "      <td>130</td>\n",
       "      <td>9270.0</td>\n",
       "      <td>0</td>\n",
       "      <td>0</td>\n",
       "      <td>1</td>\n",
       "      <td>0</td>\n",
       "      <td>0</td>\n",
       "      <td>0</td>\n",
       "      <td>1</td>\n",
       "      <td>0</td>\n",
       "      <td>1</td>\n",
       "      <td>0</td>\n",
       "    </tr>\n",
       "    <tr>\n",
       "      <th>12</th>\n",
       "      <td>13</td>\n",
       "      <td>2014-03-30 16:19:38</td>\n",
       "      <td>Fry Alexander</td>\n",
       "      <td>AlexanderDFry@cuvox.de</td>\n",
       "      <td>1970-01-01 00:00:01.396196378</td>\n",
       "      <td>254</td>\n",
       "      <td>11204.0</td>\n",
       "      <td>0</td>\n",
       "      <td>0</td>\n",
       "      <td>1</td>\n",
       "      <td>0</td>\n",
       "      <td>0</td>\n",
       "      <td>0</td>\n",
       "      <td>1</td>\n",
       "      <td>0</td>\n",
       "      <td>1</td>\n",
       "      <td>0</td>\n",
       "    </tr>\n",
       "    <tr>\n",
       "      <th>13</th>\n",
       "      <td>14</td>\n",
       "      <td>2012-10-11 16:14:33</td>\n",
       "      <td>Rivera Bret</td>\n",
       "      <td>BretKRivera@gmail.com</td>\n",
       "      <td>1970-01-01 00:00:01.350058473</td>\n",
       "      <td>0</td>\n",
       "      <td>NaN</td>\n",
       "      <td>0</td>\n",
       "      <td>0</td>\n",
       "      <td>0</td>\n",
       "      <td>0</td>\n",
       "      <td>1</td>\n",
       "      <td>0</td>\n",
       "      <td>1</td>\n",
       "      <td>0</td>\n",
       "      <td>1</td>\n",
       "      <td>0</td>\n",
       "    </tr>\n",
       "    <tr>\n",
       "      <th>14</th>\n",
       "      <td>15</td>\n",
       "      <td>2013-07-16 21:33:54</td>\n",
       "      <td>Theiss Ralf</td>\n",
       "      <td>RalfTheiss@hotmail.com</td>\n",
       "      <td>NaT</td>\n",
       "      <td>175</td>\n",
       "      <td>NaN</td>\n",
       "      <td>0</td>\n",
       "      <td>0</td>\n",
       "      <td>0</td>\n",
       "      <td>1</td>\n",
       "      <td>0</td>\n",
       "      <td>0</td>\n",
       "      <td>1</td>\n",
       "      <td>0</td>\n",
       "      <td>1</td>\n",
       "      <td>0</td>\n",
       "    </tr>\n",
       "    <tr>\n",
       "      <th>15</th>\n",
       "      <td>16</td>\n",
       "      <td>2013-02-11 10:09:50</td>\n",
       "      <td>Engel René</td>\n",
       "      <td>ReneEngel@hotmail.com</td>\n",
       "      <td>NaT</td>\n",
       "      <td>211</td>\n",
       "      <td>NaN</td>\n",
       "      <td>0</td>\n",
       "      <td>0</td>\n",
       "      <td>0</td>\n",
       "      <td>1</td>\n",
       "      <td>0</td>\n",
       "      <td>0</td>\n",
       "      <td>1</td>\n",
       "      <td>0</td>\n",
       "      <td>1</td>\n",
       "      <td>0</td>\n",
       "    </tr>\n",
       "    <tr>\n",
       "      <th>16</th>\n",
       "      <td>17</td>\n",
       "      <td>2014-04-09 14:39:38</td>\n",
       "      <td>Reynolds Anthony</td>\n",
       "      <td>AnthonyReynolds@jourrapide.com</td>\n",
       "      <td>1970-01-01 00:00:01.397313578</td>\n",
       "      <td>175</td>\n",
       "      <td>1600.0</td>\n",
       "      <td>0</td>\n",
       "      <td>1</td>\n",
       "      <td>0</td>\n",
       "      <td>0</td>\n",
       "      <td>0</td>\n",
       "      <td>0</td>\n",
       "      <td>0</td>\n",
       "      <td>1</td>\n",
       "      <td>1</td>\n",
       "      <td>0</td>\n",
       "    </tr>\n",
       "    <tr>\n",
       "      <th>17</th>\n",
       "      <td>18</td>\n",
       "      <td>2013-08-24 00:26:46</td>\n",
       "      <td>Gregersen Celina</td>\n",
       "      <td>CelinaAGregersen@jourrapide.com</td>\n",
       "      <td>NaT</td>\n",
       "      <td>2</td>\n",
       "      <td>3153.0</td>\n",
       "      <td>0</td>\n",
       "      <td>1</td>\n",
       "      <td>0</td>\n",
       "      <td>0</td>\n",
       "      <td>0</td>\n",
       "      <td>0</td>\n",
       "      <td>1</td>\n",
       "      <td>0</td>\n",
       "      <td>1</td>\n",
       "      <td>0</td>\n",
       "    </tr>\n",
       "    <tr>\n",
       "      <th>18</th>\n",
       "      <td>19</td>\n",
       "      <td>2013-05-24 14:56:36</td>\n",
       "      <td>Collins Arlene</td>\n",
       "      <td>ArleneRCollins@gmail.com</td>\n",
       "      <td>1970-01-01 00:00:01.369925796</td>\n",
       "      <td>0</td>\n",
       "      <td>NaN</td>\n",
       "      <td>0</td>\n",
       "      <td>0</td>\n",
       "      <td>0</td>\n",
       "      <td>0</td>\n",
       "      <td>1</td>\n",
       "      <td>0</td>\n",
       "      <td>0</td>\n",
       "      <td>1</td>\n",
       "      <td>1</td>\n",
       "      <td>0</td>\n",
       "    </tr>\n",
       "    <tr>\n",
       "      <th>19</th>\n",
       "      <td>20</td>\n",
       "      <td>2014-03-06 11:46:38</td>\n",
       "      <td>Helms Mikayla</td>\n",
       "      <td>lqyvjilf@uhzdq.com</td>\n",
       "      <td>1970-01-01 00:00:01.401363998</td>\n",
       "      <td>58</td>\n",
       "      <td>NaN</td>\n",
       "      <td>0</td>\n",
       "      <td>0</td>\n",
       "      <td>0</td>\n",
       "      <td>0</td>\n",
       "      <td>1</td>\n",
       "      <td>0</td>\n",
       "      <td>1</td>\n",
       "      <td>0</td>\n",
       "      <td>1</td>\n",
       "      <td>0</td>\n",
       "    </tr>\n",
       "    <tr>\n",
       "      <th>20</th>\n",
       "      <td>21</td>\n",
       "      <td>2013-01-22 12:27:42</td>\n",
       "      <td>Hunter Alfie</td>\n",
       "      <td>AlfieHunter@gmail.com</td>\n",
       "      <td>1970-01-01 00:00:01.358857662</td>\n",
       "      <td>54</td>\n",
       "      <td>NaN</td>\n",
       "      <td>0</td>\n",
       "      <td>0</td>\n",
       "      <td>0</td>\n",
       "      <td>1</td>\n",
       "      <td>0</td>\n",
       "      <td>0</td>\n",
       "      <td>1</td>\n",
       "      <td>0</td>\n",
       "      <td>1</td>\n",
       "      <td>0</td>\n",
       "    </tr>\n",
       "    <tr>\n",
       "      <th>21</th>\n",
       "      <td>22</td>\n",
       "      <td>2014-02-10 06:00:46</td>\n",
       "      <td>Myers Jordan</td>\n",
       "      <td>JordanMyers@gmail.com</td>\n",
       "      <td>1970-01-01 00:00:01.392012046</td>\n",
       "      <td>7</td>\n",
       "      <td>2994.0</td>\n",
       "      <td>0</td>\n",
       "      <td>0</td>\n",
       "      <td>1</td>\n",
       "      <td>0</td>\n",
       "      <td>0</td>\n",
       "      <td>0</td>\n",
       "      <td>1</td>\n",
       "      <td>0</td>\n",
       "      <td>1</td>\n",
       "      <td>0</td>\n",
       "    </tr>\n",
       "    <tr>\n",
       "      <th>22</th>\n",
       "      <td>23</td>\n",
       "      <td>2012-08-17 08:30:27</td>\n",
       "      <td>Souza Alice</td>\n",
       "      <td>AliceAraujoSouza@gustr.com</td>\n",
       "      <td>1970-01-01 00:00:01.345278627</td>\n",
       "      <td>6</td>\n",
       "      <td>23.0</td>\n",
       "      <td>0</td>\n",
       "      <td>0</td>\n",
       "      <td>1</td>\n",
       "      <td>0</td>\n",
       "      <td>0</td>\n",
       "      <td>0</td>\n",
       "      <td>0</td>\n",
       "      <td>1</td>\n",
       "      <td>1</td>\n",
       "      <td>0</td>\n",
       "    </tr>\n",
       "    <tr>\n",
       "      <th>23</th>\n",
       "      <td>24</td>\n",
       "      <td>2013-09-09 22:20:03</td>\n",
       "      <td>Woodruff James</td>\n",
       "      <td>JamesTWoodruff@cuvox.de</td>\n",
       "      <td>1970-01-01 00:00:01.378765203</td>\n",
       "      <td>123</td>\n",
       "      <td>NaN</td>\n",
       "      <td>0</td>\n",
       "      <td>0</td>\n",
       "      <td>0</td>\n",
       "      <td>0</td>\n",
       "      <td>1</td>\n",
       "      <td>0</td>\n",
       "      <td>0</td>\n",
       "      <td>1</td>\n",
       "      <td>1</td>\n",
       "      <td>0</td>\n",
       "    </tr>\n",
       "    <tr>\n",
       "      <th>24</th>\n",
       "      <td>25</td>\n",
       "      <td>2014-02-25 00:11:13</td>\n",
       "      <td>Stone Elise</td>\n",
       "      <td>EliseStone@jourrapide.com</td>\n",
       "      <td>1970-01-01 00:00:01.393373473</td>\n",
       "      <td>81</td>\n",
       "      <td>6312.0</td>\n",
       "      <td>0</td>\n",
       "      <td>1</td>\n",
       "      <td>0</td>\n",
       "      <td>0</td>\n",
       "      <td>0</td>\n",
       "      <td>0</td>\n",
       "      <td>0</td>\n",
       "      <td>1</td>\n",
       "      <td>1</td>\n",
       "      <td>0</td>\n",
       "    </tr>\n",
       "    <tr>\n",
       "      <th>25</th>\n",
       "      <td>26</td>\n",
       "      <td>2013-07-28 00:53:32</td>\n",
       "      <td>Wexler Florian</td>\n",
       "      <td>FlorianWexler@jourrapide.com</td>\n",
       "      <td>NaT</td>\n",
       "      <td>56</td>\n",
       "      <td>11857.0</td>\n",
       "      <td>0</td>\n",
       "      <td>0</td>\n",
       "      <td>1</td>\n",
       "      <td>0</td>\n",
       "      <td>0</td>\n",
       "      <td>0</td>\n",
       "      <td>1</td>\n",
       "      <td>0</td>\n",
       "      <td>1</td>\n",
       "      <td>0</td>\n",
       "    </tr>\n",
       "    <tr>\n",
       "      <th>26</th>\n",
       "      <td>27</td>\n",
       "      <td>2014-01-14 17:35:11</td>\n",
       "      <td>Santos Luís</td>\n",
       "      <td>LuisPintoSantos@gmail.com</td>\n",
       "      <td>1970-01-01 00:00:01.389807311</td>\n",
       "      <td>134</td>\n",
       "      <td>4189.0</td>\n",
       "      <td>0</td>\n",
       "      <td>0</td>\n",
       "      <td>1</td>\n",
       "      <td>0</td>\n",
       "      <td>0</td>\n",
       "      <td>0</td>\n",
       "      <td>1</td>\n",
       "      <td>0</td>\n",
       "      <td>1</td>\n",
       "      <td>0</td>\n",
       "    </tr>\n",
       "    <tr>\n",
       "      <th>27</th>\n",
       "      <td>28</td>\n",
       "      <td>2013-02-11 20:00:25</td>\n",
       "      <td>Weissmuller Marko</td>\n",
       "      <td>MarkoWeissmuller@jourrapide.com</td>\n",
       "      <td>1970-01-01 00:00:01.360872025</td>\n",
       "      <td>6</td>\n",
       "      <td>NaN</td>\n",
       "      <td>0</td>\n",
       "      <td>0</td>\n",
       "      <td>0</td>\n",
       "      <td>0</td>\n",
       "      <td>1</td>\n",
       "      <td>0</td>\n",
       "      <td>1</td>\n",
       "      <td>0</td>\n",
       "      <td>1</td>\n",
       "      <td>0</td>\n",
       "    </tr>\n",
       "    <tr>\n",
       "      <th>28</th>\n",
       "      <td>29</td>\n",
       "      <td>2013-09-16 02:08:41</td>\n",
       "      <td>Fernandes Evelyn</td>\n",
       "      <td>EvelynSousaFernandes@jourrapide.com</td>\n",
       "      <td>1970-01-01 00:00:01.379383721</td>\n",
       "      <td>92</td>\n",
       "      <td>NaN</td>\n",
       "      <td>0</td>\n",
       "      <td>0</td>\n",
       "      <td>0</td>\n",
       "      <td>0</td>\n",
       "      <td>1</td>\n",
       "      <td>0</td>\n",
       "      <td>1</td>\n",
       "      <td>0</td>\n",
       "      <td>1</td>\n",
       "      <td>0</td>\n",
       "    </tr>\n",
       "    <tr>\n",
       "      <th>29</th>\n",
       "      <td>30</td>\n",
       "      <td>2013-06-04 00:44:25</td>\n",
       "      <td>Egger Leah</td>\n",
       "      <td>LeahEgger@jourrapide.com</td>\n",
       "      <td>1970-01-01 00:00:01.370306665</td>\n",
       "      <td>251</td>\n",
       "      <td>4835.0</td>\n",
       "      <td>0</td>\n",
       "      <td>1</td>\n",
       "      <td>0</td>\n",
       "      <td>0</td>\n",
       "      <td>0</td>\n",
       "      <td>0</td>\n",
       "      <td>1</td>\n",
       "      <td>0</td>\n",
       "      <td>1</td>\n",
       "      <td>0</td>\n",
       "    </tr>\n",
       "    <tr>\n",
       "      <th>...</th>\n",
       "      <td>...</td>\n",
       "      <td>...</td>\n",
       "      <td>...</td>\n",
       "      <td>...</td>\n",
       "      <td>...</td>\n",
       "      <td>...</td>\n",
       "      <td>...</td>\n",
       "      <td>...</td>\n",
       "      <td>...</td>\n",
       "      <td>...</td>\n",
       "      <td>...</td>\n",
       "      <td>...</td>\n",
       "      <td>...</td>\n",
       "      <td>...</td>\n",
       "      <td>...</td>\n",
       "      <td>...</td>\n",
       "      <td>...</td>\n",
       "    </tr>\n",
       "    <tr>\n",
       "      <th>11970</th>\n",
       "      <td>11971</td>\n",
       "      <td>2013-05-04 06:54:23</td>\n",
       "      <td>Ferreira Beatrice</td>\n",
       "      <td>BeatriceBarbosaFerreira@yahoo.com</td>\n",
       "      <td>NaT</td>\n",
       "      <td>3</td>\n",
       "      <td>11854.0</td>\n",
       "      <td>0</td>\n",
       "      <td>1</td>\n",
       "      <td>0</td>\n",
       "      <td>0</td>\n",
       "      <td>0</td>\n",
       "      <td>0</td>\n",
       "      <td>1</td>\n",
       "      <td>0</td>\n",
       "      <td>1</td>\n",
       "      <td>0</td>\n",
       "    </tr>\n",
       "    <tr>\n",
       "      <th>11971</th>\n",
       "      <td>11972</td>\n",
       "      <td>2012-09-13 23:23:11</td>\n",
       "      <td>Penington Jamie</td>\n",
       "      <td>JamiePenington@yahoo.com</td>\n",
       "      <td>NaT</td>\n",
       "      <td>16</td>\n",
       "      <td>7012.0</td>\n",
       "      <td>0</td>\n",
       "      <td>0</td>\n",
       "      <td>1</td>\n",
       "      <td>0</td>\n",
       "      <td>0</td>\n",
       "      <td>0</td>\n",
       "      <td>1</td>\n",
       "      <td>0</td>\n",
       "      <td>1</td>\n",
       "      <td>0</td>\n",
       "    </tr>\n",
       "    <tr>\n",
       "      <th>11972</th>\n",
       "      <td>11973</td>\n",
       "      <td>2012-10-30 03:09:47</td>\n",
       "      <td>Simmons Thomas</td>\n",
       "      <td>ThomasSimmons@gmail.com</td>\n",
       "      <td>NaT</td>\n",
       "      <td>52</td>\n",
       "      <td>NaN</td>\n",
       "      <td>0</td>\n",
       "      <td>0</td>\n",
       "      <td>0</td>\n",
       "      <td>1</td>\n",
       "      <td>0</td>\n",
       "      <td>0</td>\n",
       "      <td>1</td>\n",
       "      <td>0</td>\n",
       "      <td>1</td>\n",
       "      <td>0</td>\n",
       "    </tr>\n",
       "    <tr>\n",
       "      <th>11973</th>\n",
       "      <td>11974</td>\n",
       "      <td>2012-12-26 16:42:08</td>\n",
       "      <td>Scott James</td>\n",
       "      <td>JamesJScott@gmail.com</td>\n",
       "      <td>1970-01-01 00:00:01.356712928</td>\n",
       "      <td>167</td>\n",
       "      <td>NaN</td>\n",
       "      <td>0</td>\n",
       "      <td>0</td>\n",
       "      <td>0</td>\n",
       "      <td>0</td>\n",
       "      <td>1</td>\n",
       "      <td>0</td>\n",
       "      <td>1</td>\n",
       "      <td>0</td>\n",
       "      <td>1</td>\n",
       "      <td>0</td>\n",
       "    </tr>\n",
       "    <tr>\n",
       "      <th>11974</th>\n",
       "      <td>11975</td>\n",
       "      <td>2013-03-23 11:10:11</td>\n",
       "      <td>Daecher Jürgen</td>\n",
       "      <td>JurgenDaecher@gustr.com</td>\n",
       "      <td>1970-01-01 00:00:01.400757011</td>\n",
       "      <td>31</td>\n",
       "      <td>6410.0</td>\n",
       "      <td>1</td>\n",
       "      <td>1</td>\n",
       "      <td>0</td>\n",
       "      <td>0</td>\n",
       "      <td>0</td>\n",
       "      <td>0</td>\n",
       "      <td>0</td>\n",
       "      <td>1</td>\n",
       "      <td>1</td>\n",
       "      <td>0</td>\n",
       "    </tr>\n",
       "    <tr>\n",
       "      <th>11975</th>\n",
       "      <td>11976</td>\n",
       "      <td>2013-12-25 22:01:41</td>\n",
       "      <td>Kohl Leah</td>\n",
       "      <td>LeahKohl@hotmail.com</td>\n",
       "      <td>NaT</td>\n",
       "      <td>248</td>\n",
       "      <td>NaN</td>\n",
       "      <td>0</td>\n",
       "      <td>0</td>\n",
       "      <td>0</td>\n",
       "      <td>1</td>\n",
       "      <td>0</td>\n",
       "      <td>0</td>\n",
       "      <td>1</td>\n",
       "      <td>0</td>\n",
       "      <td>1</td>\n",
       "      <td>0</td>\n",
       "    </tr>\n",
       "    <tr>\n",
       "      <th>11976</th>\n",
       "      <td>11977</td>\n",
       "      <td>2013-09-17 18:58:51</td>\n",
       "      <td>Crary Joshua</td>\n",
       "      <td>JoshuaHCrary@gmail.com</td>\n",
       "      <td>1970-01-01 00:00:01.379703531</td>\n",
       "      <td>144</td>\n",
       "      <td>NaN</td>\n",
       "      <td>0</td>\n",
       "      <td>0</td>\n",
       "      <td>0</td>\n",
       "      <td>0</td>\n",
       "      <td>0</td>\n",
       "      <td>1</td>\n",
       "      <td>1</td>\n",
       "      <td>0</td>\n",
       "      <td>1</td>\n",
       "      <td>0</td>\n",
       "    </tr>\n",
       "    <tr>\n",
       "      <th>11977</th>\n",
       "      <td>11978</td>\n",
       "      <td>2014-04-23 16:28:06</td>\n",
       "      <td>Castro Pedro</td>\n",
       "      <td>PedroCunhaCastro@gustr.com</td>\n",
       "      <td>NaT</td>\n",
       "      <td>29</td>\n",
       "      <td>NaN</td>\n",
       "      <td>0</td>\n",
       "      <td>0</td>\n",
       "      <td>0</td>\n",
       "      <td>1</td>\n",
       "      <td>0</td>\n",
       "      <td>0</td>\n",
       "      <td>0</td>\n",
       "      <td>1</td>\n",
       "      <td>1</td>\n",
       "      <td>0</td>\n",
       "    </tr>\n",
       "    <tr>\n",
       "      <th>11978</th>\n",
       "      <td>11979</td>\n",
       "      <td>2013-01-28 09:26:33</td>\n",
       "      <td>Hurst Harley</td>\n",
       "      <td>HarleyHurst@yahoo.com</td>\n",
       "      <td>1970-01-01 00:00:01.359624393</td>\n",
       "      <td>2</td>\n",
       "      <td>NaN</td>\n",
       "      <td>0</td>\n",
       "      <td>0</td>\n",
       "      <td>0</td>\n",
       "      <td>0</td>\n",
       "      <td>1</td>\n",
       "      <td>0</td>\n",
       "      <td>1</td>\n",
       "      <td>0</td>\n",
       "      <td>1</td>\n",
       "      <td>0</td>\n",
       "    </tr>\n",
       "    <tr>\n",
       "      <th>11979</th>\n",
       "      <td>11980</td>\n",
       "      <td>2014-02-02 15:23:18</td>\n",
       "      <td>Gloeckner Franziska</td>\n",
       "      <td>ljnnbqdr@cgbld.com</td>\n",
       "      <td>1970-01-01 00:00:01.397834598</td>\n",
       "      <td>406</td>\n",
       "      <td>3068.0</td>\n",
       "      <td>0</td>\n",
       "      <td>0</td>\n",
       "      <td>1</td>\n",
       "      <td>0</td>\n",
       "      <td>0</td>\n",
       "      <td>0</td>\n",
       "      <td>1</td>\n",
       "      <td>0</td>\n",
       "      <td>1</td>\n",
       "      <td>0</td>\n",
       "    </tr>\n",
       "    <tr>\n",
       "      <th>11980</th>\n",
       "      <td>11981</td>\n",
       "      <td>2013-03-05 01:53:48</td>\n",
       "      <td>Fry Tyler</td>\n",
       "      <td>TylerFry@gmail.com</td>\n",
       "      <td>1970-01-01 00:00:01.364867628</td>\n",
       "      <td>110</td>\n",
       "      <td>5775.0</td>\n",
       "      <td>0</td>\n",
       "      <td>1</td>\n",
       "      <td>0</td>\n",
       "      <td>0</td>\n",
       "      <td>0</td>\n",
       "      <td>0</td>\n",
       "      <td>1</td>\n",
       "      <td>0</td>\n",
       "      <td>1</td>\n",
       "      <td>0</td>\n",
       "    </tr>\n",
       "    <tr>\n",
       "      <th>11981</th>\n",
       "      <td>11982</td>\n",
       "      <td>2013-12-06 14:39:15</td>\n",
       "      <td>Barajas Maria</td>\n",
       "      <td>MariaCBarajas@gmail.com</td>\n",
       "      <td>1970-01-01 00:00:01.386340755</td>\n",
       "      <td>57</td>\n",
       "      <td>2527.0</td>\n",
       "      <td>0</td>\n",
       "      <td>0</td>\n",
       "      <td>1</td>\n",
       "      <td>0</td>\n",
       "      <td>0</td>\n",
       "      <td>0</td>\n",
       "      <td>0</td>\n",
       "      <td>1</td>\n",
       "      <td>0</td>\n",
       "      <td>1</td>\n",
       "    </tr>\n",
       "    <tr>\n",
       "      <th>11982</th>\n",
       "      <td>11983</td>\n",
       "      <td>2013-07-30 00:23:36</td>\n",
       "      <td>Engel Mike</td>\n",
       "      <td>MikeEngel@gmail.com</td>\n",
       "      <td>1970-01-01 00:00:01.375143816</td>\n",
       "      <td>234</td>\n",
       "      <td>NaN</td>\n",
       "      <td>0</td>\n",
       "      <td>0</td>\n",
       "      <td>0</td>\n",
       "      <td>0</td>\n",
       "      <td>0</td>\n",
       "      <td>1</td>\n",
       "      <td>1</td>\n",
       "      <td>0</td>\n",
       "      <td>1</td>\n",
       "      <td>0</td>\n",
       "    </tr>\n",
       "    <tr>\n",
       "      <th>11983</th>\n",
       "      <td>11984</td>\n",
       "      <td>2014-02-11 21:26:11</td>\n",
       "      <td>Reed Cerys</td>\n",
       "      <td>CerysReed@yahoo.com</td>\n",
       "      <td>1970-01-01 00:00:01.392153971</td>\n",
       "      <td>170</td>\n",
       "      <td>NaN</td>\n",
       "      <td>0</td>\n",
       "      <td>0</td>\n",
       "      <td>0</td>\n",
       "      <td>0</td>\n",
       "      <td>1</td>\n",
       "      <td>0</td>\n",
       "      <td>1</td>\n",
       "      <td>0</td>\n",
       "      <td>1</td>\n",
       "      <td>0</td>\n",
       "    </tr>\n",
       "    <tr>\n",
       "      <th>11984</th>\n",
       "      <td>11985</td>\n",
       "      <td>2013-07-08 17:23:26</td>\n",
       "      <td>Jespersen Marcus</td>\n",
       "      <td>MarcusTJespersen@cuvox.de</td>\n",
       "      <td>NaT</td>\n",
       "      <td>74</td>\n",
       "      <td>NaN</td>\n",
       "      <td>0</td>\n",
       "      <td>0</td>\n",
       "      <td>0</td>\n",
       "      <td>1</td>\n",
       "      <td>0</td>\n",
       "      <td>0</td>\n",
       "      <td>1</td>\n",
       "      <td>0</td>\n",
       "      <td>1</td>\n",
       "      <td>0</td>\n",
       "    </tr>\n",
       "    <tr>\n",
       "      <th>11985</th>\n",
       "      <td>11986</td>\n",
       "      <td>2012-06-24 01:02:14</td>\n",
       "      <td>Ribeiro Clara</td>\n",
       "      <td>ClaraBarrosRibeiro@gmail.com</td>\n",
       "      <td>1970-01-01 00:00:01.341104534</td>\n",
       "      <td>111</td>\n",
       "      <td>NaN</td>\n",
       "      <td>0</td>\n",
       "      <td>0</td>\n",
       "      <td>0</td>\n",
       "      <td>0</td>\n",
       "      <td>0</td>\n",
       "      <td>1</td>\n",
       "      <td>1</td>\n",
       "      <td>0</td>\n",
       "      <td>1</td>\n",
       "      <td>0</td>\n",
       "    </tr>\n",
       "    <tr>\n",
       "      <th>11986</th>\n",
       "      <td>11987</td>\n",
       "      <td>2013-03-15 03:21:01</td>\n",
       "      <td>Reed Poppy</td>\n",
       "      <td>ftdkorrj@uyhoy.com</td>\n",
       "      <td>1970-01-01 00:00:01.363317661</td>\n",
       "      <td>1</td>\n",
       "      <td>NaN</td>\n",
       "      <td>0</td>\n",
       "      <td>0</td>\n",
       "      <td>0</td>\n",
       "      <td>0</td>\n",
       "      <td>1</td>\n",
       "      <td>0</td>\n",
       "      <td>1</td>\n",
       "      <td>0</td>\n",
       "      <td>1</td>\n",
       "      <td>0</td>\n",
       "    </tr>\n",
       "    <tr>\n",
       "      <th>11987</th>\n",
       "      <td>11988</td>\n",
       "      <td>2014-03-15 11:04:47</td>\n",
       "      <td>Minick John</td>\n",
       "      <td>JohnFMinick@yahoo.com</td>\n",
       "      <td>1970-01-01 00:00:01.401620687</td>\n",
       "      <td>114</td>\n",
       "      <td>NaN</td>\n",
       "      <td>1</td>\n",
       "      <td>0</td>\n",
       "      <td>0</td>\n",
       "      <td>1</td>\n",
       "      <td>0</td>\n",
       "      <td>0</td>\n",
       "      <td>1</td>\n",
       "      <td>0</td>\n",
       "      <td>1</td>\n",
       "      <td>0</td>\n",
       "    </tr>\n",
       "    <tr>\n",
       "      <th>11988</th>\n",
       "      <td>11989</td>\n",
       "      <td>2013-09-02 11:24:33</td>\n",
       "      <td>Pereira Emilly</td>\n",
       "      <td>EmillyOliveiraPereira@gmail.com</td>\n",
       "      <td>1970-01-01 00:00:01.378553073</td>\n",
       "      <td>22</td>\n",
       "      <td>NaN</td>\n",
       "      <td>0</td>\n",
       "      <td>0</td>\n",
       "      <td>0</td>\n",
       "      <td>0</td>\n",
       "      <td>0</td>\n",
       "      <td>1</td>\n",
       "      <td>0</td>\n",
       "      <td>1</td>\n",
       "      <td>1</td>\n",
       "      <td>0</td>\n",
       "    </tr>\n",
       "    <tr>\n",
       "      <th>11989</th>\n",
       "      <td>11990</td>\n",
       "      <td>2013-07-05 21:00:48</td>\n",
       "      <td>Juhl Aase</td>\n",
       "      <td>AasePJuhl@jourrapide.com</td>\n",
       "      <td>1970-01-01 00:00:01.373144448</td>\n",
       "      <td>25</td>\n",
       "      <td>3944.0</td>\n",
       "      <td>0</td>\n",
       "      <td>0</td>\n",
       "      <td>1</td>\n",
       "      <td>0</td>\n",
       "      <td>0</td>\n",
       "      <td>0</td>\n",
       "      <td>1</td>\n",
       "      <td>0</td>\n",
       "      <td>1</td>\n",
       "      <td>0</td>\n",
       "    </tr>\n",
       "    <tr>\n",
       "      <th>11990</th>\n",
       "      <td>11991</td>\n",
       "      <td>2014-04-20 14:22:45</td>\n",
       "      <td>Vaughn Arthur</td>\n",
       "      <td>ArthurJVaughn@gmail.com</td>\n",
       "      <td>1970-01-01 00:00:01.401459765</td>\n",
       "      <td>388</td>\n",
       "      <td>NaN</td>\n",
       "      <td>0</td>\n",
       "      <td>0</td>\n",
       "      <td>0</td>\n",
       "      <td>0</td>\n",
       "      <td>0</td>\n",
       "      <td>1</td>\n",
       "      <td>1</td>\n",
       "      <td>0</td>\n",
       "      <td>1</td>\n",
       "      <td>0</td>\n",
       "    </tr>\n",
       "    <tr>\n",
       "      <th>11991</th>\n",
       "      <td>11992</td>\n",
       "      <td>2014-04-09 19:39:56</td>\n",
       "      <td>Hermansen Amanda</td>\n",
       "      <td>AmandaAHermansen@yahoo.com</td>\n",
       "      <td>1970-01-01 00:00:01.397245196</td>\n",
       "      <td>129</td>\n",
       "      <td>NaN</td>\n",
       "      <td>0</td>\n",
       "      <td>0</td>\n",
       "      <td>0</td>\n",
       "      <td>1</td>\n",
       "      <td>0</td>\n",
       "      <td>0</td>\n",
       "      <td>1</td>\n",
       "      <td>0</td>\n",
       "      <td>1</td>\n",
       "      <td>0</td>\n",
       "    </tr>\n",
       "    <tr>\n",
       "      <th>11992</th>\n",
       "      <td>11993</td>\n",
       "      <td>2013-03-28 23:24:21</td>\n",
       "      <td>Townsend Isabel</td>\n",
       "      <td>IsabelTownsend@cuvox.de</td>\n",
       "      <td>NaT</td>\n",
       "      <td>281</td>\n",
       "      <td>NaN</td>\n",
       "      <td>0</td>\n",
       "      <td>0</td>\n",
       "      <td>0</td>\n",
       "      <td>1</td>\n",
       "      <td>0</td>\n",
       "      <td>0</td>\n",
       "      <td>1</td>\n",
       "      <td>0</td>\n",
       "      <td>1</td>\n",
       "      <td>0</td>\n",
       "    </tr>\n",
       "    <tr>\n",
       "      <th>11993</th>\n",
       "      <td>11994</td>\n",
       "      <td>2012-06-05 04:46:16</td>\n",
       "      <td>Grimstone Joel</td>\n",
       "      <td>conxzghp@eaouk.com</td>\n",
       "      <td>NaT</td>\n",
       "      <td>84</td>\n",
       "      <td>5450.0</td>\n",
       "      <td>0</td>\n",
       "      <td>1</td>\n",
       "      <td>0</td>\n",
       "      <td>0</td>\n",
       "      <td>0</td>\n",
       "      <td>0</td>\n",
       "      <td>1</td>\n",
       "      <td>0</td>\n",
       "      <td>1</td>\n",
       "      <td>0</td>\n",
       "    </tr>\n",
       "    <tr>\n",
       "      <th>11994</th>\n",
       "      <td>11995</td>\n",
       "      <td>2013-10-21 13:33:17</td>\n",
       "      <td>Werfel Sebastian</td>\n",
       "      <td>SebastianWerfel@gmail.com</td>\n",
       "      <td>1970-01-01 00:00:01.382448797</td>\n",
       "      <td>0</td>\n",
       "      <td>NaN</td>\n",
       "      <td>0</td>\n",
       "      <td>0</td>\n",
       "      <td>0</td>\n",
       "      <td>1</td>\n",
       "      <td>0</td>\n",
       "      <td>0</td>\n",
       "      <td>1</td>\n",
       "      <td>0</td>\n",
       "      <td>1</td>\n",
       "      <td>0</td>\n",
       "    </tr>\n",
       "    <tr>\n",
       "      <th>11995</th>\n",
       "      <td>11996</td>\n",
       "      <td>2013-09-06 06:14:15</td>\n",
       "      <td>Meier Sophia</td>\n",
       "      <td>SophiaMeier@gustr.com</td>\n",
       "      <td>1970-01-01 00:00:01.378448055</td>\n",
       "      <td>89</td>\n",
       "      <td>8263.0</td>\n",
       "      <td>0</td>\n",
       "      <td>0</td>\n",
       "      <td>1</td>\n",
       "      <td>0</td>\n",
       "      <td>0</td>\n",
       "      <td>0</td>\n",
       "      <td>1</td>\n",
       "      <td>0</td>\n",
       "      <td>1</td>\n",
       "      <td>0</td>\n",
       "    </tr>\n",
       "    <tr>\n",
       "      <th>11996</th>\n",
       "      <td>11997</td>\n",
       "      <td>2013-01-10 18:28:37</td>\n",
       "      <td>Fisher Amelie</td>\n",
       "      <td>AmelieFisher@gmail.com</td>\n",
       "      <td>1970-01-01 00:00:01.358274517</td>\n",
       "      <td>200</td>\n",
       "      <td>NaN</td>\n",
       "      <td>0</td>\n",
       "      <td>0</td>\n",
       "      <td>0</td>\n",
       "      <td>0</td>\n",
       "      <td>0</td>\n",
       "      <td>1</td>\n",
       "      <td>1</td>\n",
       "      <td>0</td>\n",
       "      <td>1</td>\n",
       "      <td>0</td>\n",
       "    </tr>\n",
       "    <tr>\n",
       "      <th>11997</th>\n",
       "      <td>11998</td>\n",
       "      <td>2014-04-27 12:45:16</td>\n",
       "      <td>Haynes Jake</td>\n",
       "      <td>JakeHaynes@cuvox.de</td>\n",
       "      <td>1970-01-01 00:00:01.398602716</td>\n",
       "      <td>83</td>\n",
       "      <td>8074.0</td>\n",
       "      <td>0</td>\n",
       "      <td>1</td>\n",
       "      <td>0</td>\n",
       "      <td>0</td>\n",
       "      <td>0</td>\n",
       "      <td>0</td>\n",
       "      <td>0</td>\n",
       "      <td>1</td>\n",
       "      <td>0</td>\n",
       "      <td>1</td>\n",
       "    </tr>\n",
       "    <tr>\n",
       "      <th>11998</th>\n",
       "      <td>11999</td>\n",
       "      <td>2012-05-31 11:55:59</td>\n",
       "      <td>Faber Annett</td>\n",
       "      <td>mhaerzxp@iuxiw.com</td>\n",
       "      <td>1970-01-01 00:00:01.338638159</td>\n",
       "      <td>6</td>\n",
       "      <td>NaN</td>\n",
       "      <td>0</td>\n",
       "      <td>0</td>\n",
       "      <td>0</td>\n",
       "      <td>1</td>\n",
       "      <td>0</td>\n",
       "      <td>0</td>\n",
       "      <td>1</td>\n",
       "      <td>0</td>\n",
       "      <td>1</td>\n",
       "      <td>0</td>\n",
       "    </tr>\n",
       "    <tr>\n",
       "      <th>11999</th>\n",
       "      <td>12000</td>\n",
       "      <td>2014-01-26 08:57:12</td>\n",
       "      <td>Lima Thaís</td>\n",
       "      <td>ThaisMeloLima@hotmail.com</td>\n",
       "      <td>1970-01-01 00:00:01.390726632</td>\n",
       "      <td>0</td>\n",
       "      <td>NaN</td>\n",
       "      <td>0</td>\n",
       "      <td>0</td>\n",
       "      <td>0</td>\n",
       "      <td>0</td>\n",
       "      <td>1</td>\n",
       "      <td>0</td>\n",
       "      <td>1</td>\n",
       "      <td>0</td>\n",
       "      <td>0</td>\n",
       "      <td>1</td>\n",
       "    </tr>\n",
       "  </tbody>\n",
       "</table>\n",
       "<p>12000 rows × 17 columns</p>\n",
       "</div>"
      ],
      "text/plain": [
       "       object_id       creation_time                 name  \\\n",
       "0              1 2014-04-22 03:53:30       Clausen August   \n",
       "1              2 2013-11-15 03:45:04        Poole Matthew   \n",
       "2              3 2013-03-19 23:14:52    Bottrill Mitchell   \n",
       "3              4 2013-05-21 08:09:28      Clausen Nicklas   \n",
       "4              5 2013-01-17 10:14:20            Raw Grace   \n",
       "5              6 2013-12-17 03:37:06        Cunha Eduardo   \n",
       "6              7 2012-12-16 13:24:32         Sewell Tyler   \n",
       "7              8 2013-07-31 05:34:02    Hamilton Danielle   \n",
       "8              9 2013-11-05 04:04:24           Amsel Paul   \n",
       "9             10 2013-01-16 22:08:03         Santos Carla   \n",
       "10            11 2013-12-26 03:55:54       Paulsen Malthe   \n",
       "11            12 2014-04-17 23:48:38      Mathiesen Lærke   \n",
       "12            13 2014-03-30 16:19:38        Fry Alexander   \n",
       "13            14 2012-10-11 16:14:33          Rivera Bret   \n",
       "14            15 2013-07-16 21:33:54          Theiss Ralf   \n",
       "15            16 2013-02-11 10:09:50           Engel René   \n",
       "16            17 2014-04-09 14:39:38     Reynolds Anthony   \n",
       "17            18 2013-08-24 00:26:46     Gregersen Celina   \n",
       "18            19 2013-05-24 14:56:36       Collins Arlene   \n",
       "19            20 2014-03-06 11:46:38        Helms Mikayla   \n",
       "20            21 2013-01-22 12:27:42         Hunter Alfie   \n",
       "21            22 2014-02-10 06:00:46         Myers Jordan   \n",
       "22            23 2012-08-17 08:30:27          Souza Alice   \n",
       "23            24 2013-09-09 22:20:03       Woodruff James   \n",
       "24            25 2014-02-25 00:11:13          Stone Elise   \n",
       "25            26 2013-07-28 00:53:32       Wexler Florian   \n",
       "26            27 2014-01-14 17:35:11          Santos Luís   \n",
       "27            28 2013-02-11 20:00:25    Weissmuller Marko   \n",
       "28            29 2013-09-16 02:08:41     Fernandes Evelyn   \n",
       "29            30 2013-06-04 00:44:25           Egger Leah   \n",
       "...          ...                 ...                  ...   \n",
       "11970      11971 2013-05-04 06:54:23    Ferreira Beatrice   \n",
       "11971      11972 2012-09-13 23:23:11      Penington Jamie   \n",
       "11972      11973 2012-10-30 03:09:47       Simmons Thomas   \n",
       "11973      11974 2012-12-26 16:42:08          Scott James   \n",
       "11974      11975 2013-03-23 11:10:11       Daecher Jürgen   \n",
       "11975      11976 2013-12-25 22:01:41            Kohl Leah   \n",
       "11976      11977 2013-09-17 18:58:51         Crary Joshua   \n",
       "11977      11978 2014-04-23 16:28:06         Castro Pedro   \n",
       "11978      11979 2013-01-28 09:26:33         Hurst Harley   \n",
       "11979      11980 2014-02-02 15:23:18  Gloeckner Franziska   \n",
       "11980      11981 2013-03-05 01:53:48            Fry Tyler   \n",
       "11981      11982 2013-12-06 14:39:15        Barajas Maria   \n",
       "11982      11983 2013-07-30 00:23:36           Engel Mike   \n",
       "11983      11984 2014-02-11 21:26:11           Reed Cerys   \n",
       "11984      11985 2013-07-08 17:23:26     Jespersen Marcus   \n",
       "11985      11986 2012-06-24 01:02:14        Ribeiro Clara   \n",
       "11986      11987 2013-03-15 03:21:01           Reed Poppy   \n",
       "11987      11988 2014-03-15 11:04:47          Minick John   \n",
       "11988      11989 2013-09-02 11:24:33       Pereira Emilly   \n",
       "11989      11990 2013-07-05 21:00:48            Juhl Aase   \n",
       "11990      11991 2014-04-20 14:22:45        Vaughn Arthur   \n",
       "11991      11992 2014-04-09 19:39:56     Hermansen Amanda   \n",
       "11992      11993 2013-03-28 23:24:21      Townsend Isabel   \n",
       "11993      11994 2012-06-05 04:46:16       Grimstone Joel   \n",
       "11994      11995 2013-10-21 13:33:17     Werfel Sebastian   \n",
       "11995      11996 2013-09-06 06:14:15         Meier Sophia   \n",
       "11996      11997 2013-01-10 18:28:37        Fisher Amelie   \n",
       "11997      11998 2014-04-27 12:45:16          Haynes Jake   \n",
       "11998      11999 2012-05-31 11:55:59         Faber Annett   \n",
       "11999      12000 2014-01-26 08:57:12           Lima Thaís   \n",
       "\n",
       "                                     email    last_session_creation_time  \\\n",
       "0                 AugustCClausen@yahoo.com 1970-01-01 00:00:01.398138810   \n",
       "1                   MatthewPoole@gustr.com 1970-01-01 00:00:01.396237504   \n",
       "2               MitchellBottrill@gustr.com 1970-01-01 00:00:01.363734892   \n",
       "3                NicklasSClausen@yahoo.com 1970-01-01 00:00:01.369210168   \n",
       "4                       GraceRaw@yahoo.com 1970-01-01 00:00:01.358849660   \n",
       "5            EduardoPereiraCunha@yahoo.com 1970-01-01 00:00:01.387424226   \n",
       "6               TylerSewell@jourrapide.com 1970-01-01 00:00:01.356009872   \n",
       "7               DanielleHamilton@yahoo.com                           NaT   \n",
       "8                    PaulAmsel@hotmail.com                           NaT   \n",
       "9            CarlaFerreiraSantos@gustr.com 1970-01-01 00:00:01.401833283   \n",
       "10                MaltheAPaulsen@gustr.com 1970-01-01 00:00:01.388116554   \n",
       "11               LaerkeLMathiesen@cuvox.de                           NaT   \n",
       "12                  AlexanderDFry@cuvox.de 1970-01-01 00:00:01.396196378   \n",
       "13                   BretKRivera@gmail.com 1970-01-01 00:00:01.350058473   \n",
       "14                  RalfTheiss@hotmail.com                           NaT   \n",
       "15                   ReneEngel@hotmail.com                           NaT   \n",
       "16          AnthonyReynolds@jourrapide.com 1970-01-01 00:00:01.397313578   \n",
       "17         CelinaAGregersen@jourrapide.com                           NaT   \n",
       "18                ArleneRCollins@gmail.com 1970-01-01 00:00:01.369925796   \n",
       "19                      lqyvjilf@uhzdq.com 1970-01-01 00:00:01.401363998   \n",
       "20                   AlfieHunter@gmail.com 1970-01-01 00:00:01.358857662   \n",
       "21                   JordanMyers@gmail.com 1970-01-01 00:00:01.392012046   \n",
       "22              AliceAraujoSouza@gustr.com 1970-01-01 00:00:01.345278627   \n",
       "23                 JamesTWoodruff@cuvox.de 1970-01-01 00:00:01.378765203   \n",
       "24               EliseStone@jourrapide.com 1970-01-01 00:00:01.393373473   \n",
       "25            FlorianWexler@jourrapide.com                           NaT   \n",
       "26               LuisPintoSantos@gmail.com 1970-01-01 00:00:01.389807311   \n",
       "27         MarkoWeissmuller@jourrapide.com 1970-01-01 00:00:01.360872025   \n",
       "28     EvelynSousaFernandes@jourrapide.com 1970-01-01 00:00:01.379383721   \n",
       "29                LeahEgger@jourrapide.com 1970-01-01 00:00:01.370306665   \n",
       "...                                    ...                           ...   \n",
       "11970    BeatriceBarbosaFerreira@yahoo.com                           NaT   \n",
       "11971             JamiePenington@yahoo.com                           NaT   \n",
       "11972              ThomasSimmons@gmail.com                           NaT   \n",
       "11973                JamesJScott@gmail.com 1970-01-01 00:00:01.356712928   \n",
       "11974              JurgenDaecher@gustr.com 1970-01-01 00:00:01.400757011   \n",
       "11975                 LeahKohl@hotmail.com                           NaT   \n",
       "11976               JoshuaHCrary@gmail.com 1970-01-01 00:00:01.379703531   \n",
       "11977           PedroCunhaCastro@gustr.com                           NaT   \n",
       "11978                HarleyHurst@yahoo.com 1970-01-01 00:00:01.359624393   \n",
       "11979                   ljnnbqdr@cgbld.com 1970-01-01 00:00:01.397834598   \n",
       "11980                   TylerFry@gmail.com 1970-01-01 00:00:01.364867628   \n",
       "11981              MariaCBarajas@gmail.com 1970-01-01 00:00:01.386340755   \n",
       "11982                  MikeEngel@gmail.com 1970-01-01 00:00:01.375143816   \n",
       "11983                  CerysReed@yahoo.com 1970-01-01 00:00:01.392153971   \n",
       "11984            MarcusTJespersen@cuvox.de                           NaT   \n",
       "11985         ClaraBarrosRibeiro@gmail.com 1970-01-01 00:00:01.341104534   \n",
       "11986                   ftdkorrj@uyhoy.com 1970-01-01 00:00:01.363317661   \n",
       "11987                JohnFMinick@yahoo.com 1970-01-01 00:00:01.401620687   \n",
       "11988      EmillyOliveiraPereira@gmail.com 1970-01-01 00:00:01.378553073   \n",
       "11989             AasePJuhl@jourrapide.com 1970-01-01 00:00:01.373144448   \n",
       "11990              ArthurJVaughn@gmail.com 1970-01-01 00:00:01.401459765   \n",
       "11991           AmandaAHermansen@yahoo.com 1970-01-01 00:00:01.397245196   \n",
       "11992              IsabelTownsend@cuvox.de                           NaT   \n",
       "11993                   conxzghp@eaouk.com                           NaT   \n",
       "11994            SebastianWerfel@gmail.com 1970-01-01 00:00:01.382448797   \n",
       "11995                SophiaMeier@gustr.com 1970-01-01 00:00:01.378448055   \n",
       "11996               AmelieFisher@gmail.com 1970-01-01 00:00:01.358274517   \n",
       "11997                  JakeHaynes@cuvox.de 1970-01-01 00:00:01.398602716   \n",
       "11998                   mhaerzxp@iuxiw.com 1970-01-01 00:00:01.338638159   \n",
       "11999            ThaisMeloLima@hotmail.com 1970-01-01 00:00:01.390726632   \n",
       "\n",
       "       org_id  invited_by_user_id  adopted_user  creation_source_GUEST_INVITE  \\\n",
       "0          11             10803.0             0                             1   \n",
       "1           1               316.0             0                             0   \n",
       "2          94              1525.0             0                             0   \n",
       "3           1              5151.0             0                             1   \n",
       "4         193              5240.0             0                             1   \n",
       "5         197             11241.0             0                             1   \n",
       "6          37                 NaN             0                             0   \n",
       "7          74                 NaN             0                             0   \n",
       "8         302                 NaN             0                             0   \n",
       "9         318              4143.0             1                             0   \n",
       "10         69                 NaN             0                             0   \n",
       "11        130              9270.0             0                             0   \n",
       "12        254             11204.0             0                             0   \n",
       "13          0                 NaN             0                             0   \n",
       "14        175                 NaN             0                             0   \n",
       "15        211                 NaN             0                             0   \n",
       "16        175              1600.0             0                             1   \n",
       "17          2              3153.0             0                             1   \n",
       "18          0                 NaN             0                             0   \n",
       "19         58                 NaN             0                             0   \n",
       "20         54                 NaN             0                             0   \n",
       "21          7              2994.0             0                             0   \n",
       "22          6                23.0             0                             0   \n",
       "23        123                 NaN             0                             0   \n",
       "24         81              6312.0             0                             1   \n",
       "25         56             11857.0             0                             0   \n",
       "26        134              4189.0             0                             0   \n",
       "27          6                 NaN             0                             0   \n",
       "28         92                 NaN             0                             0   \n",
       "29        251              4835.0             0                             1   \n",
       "...       ...                 ...           ...                           ...   \n",
       "11970       3             11854.0             0                             1   \n",
       "11971      16              7012.0             0                             0   \n",
       "11972      52                 NaN             0                             0   \n",
       "11973     167                 NaN             0                             0   \n",
       "11974      31              6410.0             1                             1   \n",
       "11975     248                 NaN             0                             0   \n",
       "11976     144                 NaN             0                             0   \n",
       "11977      29                 NaN             0                             0   \n",
       "11978       2                 NaN             0                             0   \n",
       "11979     406              3068.0             0                             0   \n",
       "11980     110              5775.0             0                             1   \n",
       "11981      57              2527.0             0                             0   \n",
       "11982     234                 NaN             0                             0   \n",
       "11983     170                 NaN             0                             0   \n",
       "11984      74                 NaN             0                             0   \n",
       "11985     111                 NaN             0                             0   \n",
       "11986       1                 NaN             0                             0   \n",
       "11987     114                 NaN             1                             0   \n",
       "11988      22                 NaN             0                             0   \n",
       "11989      25              3944.0             0                             0   \n",
       "11990     388                 NaN             0                             0   \n",
       "11991     129                 NaN             0                             0   \n",
       "11992     281                 NaN             0                             0   \n",
       "11993      84              5450.0             0                             1   \n",
       "11994       0                 NaN             0                             0   \n",
       "11995      89              8263.0             0                             0   \n",
       "11996     200                 NaN             0                             0   \n",
       "11997      83              8074.0             0                             1   \n",
       "11998       6                 NaN             0                             0   \n",
       "11999       0                 NaN             0                             0   \n",
       "\n",
       "       creation_source_ORG_INVITE  creation_source_PERSONAL_PROJECTS  \\\n",
       "0                               0                                  0   \n",
       "1                               1                                  0   \n",
       "2                               1                                  0   \n",
       "3                               0                                  0   \n",
       "4                               0                                  0   \n",
       "5                               0                                  0   \n",
       "6                               0                                  0   \n",
       "7                               0                                  1   \n",
       "8                               0                                  1   \n",
       "9                               1                                  0   \n",
       "10                              0                                  0   \n",
       "11                              1                                  0   \n",
       "12                              1                                  0   \n",
       "13                              0                                  0   \n",
       "14                              0                                  1   \n",
       "15                              0                                  1   \n",
       "16                              0                                  0   \n",
       "17                              0                                  0   \n",
       "18                              0                                  0   \n",
       "19                              0                                  0   \n",
       "20                              0                                  1   \n",
       "21                              1                                  0   \n",
       "22                              1                                  0   \n",
       "23                              0                                  0   \n",
       "24                              0                                  0   \n",
       "25                              1                                  0   \n",
       "26                              1                                  0   \n",
       "27                              0                                  0   \n",
       "28                              0                                  0   \n",
       "29                              0                                  0   \n",
       "...                           ...                                ...   \n",
       "11970                           0                                  0   \n",
       "11971                           1                                  0   \n",
       "11972                           0                                  1   \n",
       "11973                           0                                  0   \n",
       "11974                           0                                  0   \n",
       "11975                           0                                  1   \n",
       "11976                           0                                  0   \n",
       "11977                           0                                  1   \n",
       "11978                           0                                  0   \n",
       "11979                           1                                  0   \n",
       "11980                           0                                  0   \n",
       "11981                           1                                  0   \n",
       "11982                           0                                  0   \n",
       "11983                           0                                  0   \n",
       "11984                           0                                  1   \n",
       "11985                           0                                  0   \n",
       "11986                           0                                  0   \n",
       "11987                           0                                  1   \n",
       "11988                           0                                  0   \n",
       "11989                           1                                  0   \n",
       "11990                           0                                  0   \n",
       "11991                           0                                  1   \n",
       "11992                           0                                  1   \n",
       "11993                           0                                  0   \n",
       "11994                           0                                  1   \n",
       "11995                           1                                  0   \n",
       "11996                           0                                  0   \n",
       "11997                           0                                  0   \n",
       "11998                           0                                  1   \n",
       "11999                           0                                  0   \n",
       "\n",
       "       creation_source_SIGNUP  creation_source_SIGNUP_GOOGLE_AUTH  \\\n",
       "0                           0                                   0   \n",
       "1                           0                                   0   \n",
       "2                           0                                   0   \n",
       "3                           0                                   0   \n",
       "4                           0                                   0   \n",
       "5                           0                                   0   \n",
       "6                           1                                   0   \n",
       "7                           0                                   0   \n",
       "8                           0                                   0   \n",
       "9                           0                                   0   \n",
       "10                          1                                   0   \n",
       "11                          0                                   0   \n",
       "12                          0                                   0   \n",
       "13                          1                                   0   \n",
       "14                          0                                   0   \n",
       "15                          0                                   0   \n",
       "16                          0                                   0   \n",
       "17                          0                                   0   \n",
       "18                          1                                   0   \n",
       "19                          1                                   0   \n",
       "20                          0                                   0   \n",
       "21                          0                                   0   \n",
       "22                          0                                   0   \n",
       "23                          1                                   0   \n",
       "24                          0                                   0   \n",
       "25                          0                                   0   \n",
       "26                          0                                   0   \n",
       "27                          1                                   0   \n",
       "28                          1                                   0   \n",
       "29                          0                                   0   \n",
       "...                       ...                                 ...   \n",
       "11970                       0                                   0   \n",
       "11971                       0                                   0   \n",
       "11972                       0                                   0   \n",
       "11973                       1                                   0   \n",
       "11974                       0                                   0   \n",
       "11975                       0                                   0   \n",
       "11976                       0                                   1   \n",
       "11977                       0                                   0   \n",
       "11978                       1                                   0   \n",
       "11979                       0                                   0   \n",
       "11980                       0                                   0   \n",
       "11981                       0                                   0   \n",
       "11982                       0                                   1   \n",
       "11983                       1                                   0   \n",
       "11984                       0                                   0   \n",
       "11985                       0                                   1   \n",
       "11986                       1                                   0   \n",
       "11987                       0                                   0   \n",
       "11988                       0                                   1   \n",
       "11989                       0                                   0   \n",
       "11990                       0                                   1   \n",
       "11991                       0                                   0   \n",
       "11992                       0                                   0   \n",
       "11993                       0                                   0   \n",
       "11994                       0                                   0   \n",
       "11995                       0                                   0   \n",
       "11996                       0                                   1   \n",
       "11997                       0                                   0   \n",
       "11998                       0                                   0   \n",
       "11999                       1                                   0   \n",
       "\n",
       "       opted_in_to_mailing_list_0  opted_in_to_mailing_list_1  \\\n",
       "0                               0                           1   \n",
       "1                               1                           0   \n",
       "2                               1                           0   \n",
       "3                               1                           0   \n",
       "4                               1                           0   \n",
       "5                               1                           0   \n",
       "6                               1                           0   \n",
       "7                               0                           1   \n",
       "8                               1                           0   \n",
       "9                               0                           1   \n",
       "10                              1                           0   \n",
       "11                              1                           0   \n",
       "12                              1                           0   \n",
       "13                              1                           0   \n",
       "14                              1                           0   \n",
       "15                              1                           0   \n",
       "16                              0                           1   \n",
       "17                              1                           0   \n",
       "18                              0                           1   \n",
       "19                              1                           0   \n",
       "20                              1                           0   \n",
       "21                              1                           0   \n",
       "22                              0                           1   \n",
       "23                              0                           1   \n",
       "24                              0                           1   \n",
       "25                              1                           0   \n",
       "26                              1                           0   \n",
       "27                              1                           0   \n",
       "28                              1                           0   \n",
       "29                              1                           0   \n",
       "...                           ...                         ...   \n",
       "11970                           1                           0   \n",
       "11971                           1                           0   \n",
       "11972                           1                           0   \n",
       "11973                           1                           0   \n",
       "11974                           0                           1   \n",
       "11975                           1                           0   \n",
       "11976                           1                           0   \n",
       "11977                           0                           1   \n",
       "11978                           1                           0   \n",
       "11979                           1                           0   \n",
       "11980                           1                           0   \n",
       "11981                           0                           1   \n",
       "11982                           1                           0   \n",
       "11983                           1                           0   \n",
       "11984                           1                           0   \n",
       "11985                           1                           0   \n",
       "11986                           1                           0   \n",
       "11987                           1                           0   \n",
       "11988                           0                           1   \n",
       "11989                           1                           0   \n",
       "11990                           1                           0   \n",
       "11991                           1                           0   \n",
       "11992                           1                           0   \n",
       "11993                           1                           0   \n",
       "11994                           1                           0   \n",
       "11995                           1                           0   \n",
       "11996                           1                           0   \n",
       "11997                           0                           1   \n",
       "11998                           1                           0   \n",
       "11999                           1                           0   \n",
       "\n",
       "       enabled_for_marketing_drip_0  enabled_for_marketing_drip_1  \n",
       "0                                 1                             0  \n",
       "1                                 1                             0  \n",
       "2                                 1                             0  \n",
       "3                                 1                             0  \n",
       "4                                 1                             0  \n",
       "5                                 1                             0  \n",
       "6                                 0                             1  \n",
       "7                                 0                             1  \n",
       "8                                 1                             0  \n",
       "9                                 0                             1  \n",
       "10                                1                             0  \n",
       "11                                1                             0  \n",
       "12                                1                             0  \n",
       "13                                1                             0  \n",
       "14                                1                             0  \n",
       "15                                1                             0  \n",
       "16                                1                             0  \n",
       "17                                1                             0  \n",
       "18                                1                             0  \n",
       "19                                1                             0  \n",
       "20                                1                             0  \n",
       "21                                1                             0  \n",
       "22                                1                             0  \n",
       "23                                1                             0  \n",
       "24                                1                             0  \n",
       "25                                1                             0  \n",
       "26                                1                             0  \n",
       "27                                1                             0  \n",
       "28                                1                             0  \n",
       "29                                1                             0  \n",
       "...                             ...                           ...  \n",
       "11970                             1                             0  \n",
       "11971                             1                             0  \n",
       "11972                             1                             0  \n",
       "11973                             1                             0  \n",
       "11974                             1                             0  \n",
       "11975                             1                             0  \n",
       "11976                             1                             0  \n",
       "11977                             1                             0  \n",
       "11978                             1                             0  \n",
       "11979                             1                             0  \n",
       "11980                             1                             0  \n",
       "11981                             0                             1  \n",
       "11982                             1                             0  \n",
       "11983                             1                             0  \n",
       "11984                             1                             0  \n",
       "11985                             1                             0  \n",
       "11986                             1                             0  \n",
       "11987                             1                             0  \n",
       "11988                             1                             0  \n",
       "11989                             1                             0  \n",
       "11990                             1                             0  \n",
       "11991                             1                             0  \n",
       "11992                             1                             0  \n",
       "11993                             1                             0  \n",
       "11994                             1                             0  \n",
       "11995                             1                             0  \n",
       "11996                             1                             0  \n",
       "11997                             0                             1  \n",
       "11998                             1                             0  \n",
       "11999                             0                             1  \n",
       "\n",
       "[12000 rows x 17 columns]"
      ]
     },
     "execution_count": 219,
     "metadata": {},
     "output_type": "execute_result"
    }
   ],
   "source": [
    "df_dummy"
   ]
  },
  {
   "cell_type": "code",
   "execution_count": 222,
   "metadata": {},
   "outputs": [],
   "source": [
    "df_dummy.drop(['opted_in_to_mailing_list_0' , 'enabled_for_marketing_drip_0' , 'creation_source_GUEST_INVITE'], \n",
    "       axis = 1 , inplace= True)"
   ]
  },
  {
   "cell_type": "code",
   "execution_count": 224,
   "metadata": {},
   "outputs": [
    {
     "data": {
      "text/html": [
       "<div>\n",
       "<style scoped>\n",
       "    .dataframe tbody tr th:only-of-type {\n",
       "        vertical-align: middle;\n",
       "    }\n",
       "\n",
       "    .dataframe tbody tr th {\n",
       "        vertical-align: top;\n",
       "    }\n",
       "\n",
       "    .dataframe thead th {\n",
       "        text-align: right;\n",
       "    }\n",
       "</style>\n",
       "<table border=\"1\" class=\"dataframe\">\n",
       "  <thead>\n",
       "    <tr style=\"text-align: right;\">\n",
       "      <th></th>\n",
       "      <th>object_id</th>\n",
       "      <th>creation_time</th>\n",
       "      <th>name</th>\n",
       "      <th>email</th>\n",
       "      <th>last_session_creation_time</th>\n",
       "      <th>org_id</th>\n",
       "      <th>invited_by_user_id</th>\n",
       "      <th>adopted_user</th>\n",
       "      <th>creation_source_ORG_INVITE</th>\n",
       "      <th>creation_source_PERSONAL_PROJECTS</th>\n",
       "      <th>creation_source_SIGNUP</th>\n",
       "      <th>creation_source_SIGNUP_GOOGLE_AUTH</th>\n",
       "      <th>opted_in_to_mailing_list_1</th>\n",
       "      <th>enabled_for_marketing_drip_1</th>\n",
       "    </tr>\n",
       "  </thead>\n",
       "  <tbody>\n",
       "    <tr>\n",
       "      <th>0</th>\n",
       "      <td>1</td>\n",
       "      <td>2014-04-22 03:53:30</td>\n",
       "      <td>Clausen August</td>\n",
       "      <td>AugustCClausen@yahoo.com</td>\n",
       "      <td>1970-01-01 00:00:01.398138810</td>\n",
       "      <td>11</td>\n",
       "      <td>10803.0</td>\n",
       "      <td>0</td>\n",
       "      <td>0</td>\n",
       "      <td>0</td>\n",
       "      <td>0</td>\n",
       "      <td>0</td>\n",
       "      <td>1</td>\n",
       "      <td>0</td>\n",
       "    </tr>\n",
       "    <tr>\n",
       "      <th>1</th>\n",
       "      <td>2</td>\n",
       "      <td>2013-11-15 03:45:04</td>\n",
       "      <td>Poole Matthew</td>\n",
       "      <td>MatthewPoole@gustr.com</td>\n",
       "      <td>1970-01-01 00:00:01.396237504</td>\n",
       "      <td>1</td>\n",
       "      <td>316.0</td>\n",
       "      <td>0</td>\n",
       "      <td>1</td>\n",
       "      <td>0</td>\n",
       "      <td>0</td>\n",
       "      <td>0</td>\n",
       "      <td>0</td>\n",
       "      <td>0</td>\n",
       "    </tr>\n",
       "    <tr>\n",
       "      <th>2</th>\n",
       "      <td>3</td>\n",
       "      <td>2013-03-19 23:14:52</td>\n",
       "      <td>Bottrill Mitchell</td>\n",
       "      <td>MitchellBottrill@gustr.com</td>\n",
       "      <td>1970-01-01 00:00:01.363734892</td>\n",
       "      <td>94</td>\n",
       "      <td>1525.0</td>\n",
       "      <td>0</td>\n",
       "      <td>1</td>\n",
       "      <td>0</td>\n",
       "      <td>0</td>\n",
       "      <td>0</td>\n",
       "      <td>0</td>\n",
       "      <td>0</td>\n",
       "    </tr>\n",
       "    <tr>\n",
       "      <th>3</th>\n",
       "      <td>4</td>\n",
       "      <td>2013-05-21 08:09:28</td>\n",
       "      <td>Clausen Nicklas</td>\n",
       "      <td>NicklasSClausen@yahoo.com</td>\n",
       "      <td>1970-01-01 00:00:01.369210168</td>\n",
       "      <td>1</td>\n",
       "      <td>5151.0</td>\n",
       "      <td>0</td>\n",
       "      <td>0</td>\n",
       "      <td>0</td>\n",
       "      <td>0</td>\n",
       "      <td>0</td>\n",
       "      <td>0</td>\n",
       "      <td>0</td>\n",
       "    </tr>\n",
       "    <tr>\n",
       "      <th>4</th>\n",
       "      <td>5</td>\n",
       "      <td>2013-01-17 10:14:20</td>\n",
       "      <td>Raw Grace</td>\n",
       "      <td>GraceRaw@yahoo.com</td>\n",
       "      <td>1970-01-01 00:00:01.358849660</td>\n",
       "      <td>193</td>\n",
       "      <td>5240.0</td>\n",
       "      <td>0</td>\n",
       "      <td>0</td>\n",
       "      <td>0</td>\n",
       "      <td>0</td>\n",
       "      <td>0</td>\n",
       "      <td>0</td>\n",
       "      <td>0</td>\n",
       "    </tr>\n",
       "  </tbody>\n",
       "</table>\n",
       "</div>"
      ],
      "text/plain": [
       "   object_id       creation_time               name  \\\n",
       "0          1 2014-04-22 03:53:30     Clausen August   \n",
       "1          2 2013-11-15 03:45:04      Poole Matthew   \n",
       "2          3 2013-03-19 23:14:52  Bottrill Mitchell   \n",
       "3          4 2013-05-21 08:09:28    Clausen Nicklas   \n",
       "4          5 2013-01-17 10:14:20          Raw Grace   \n",
       "\n",
       "                        email    last_session_creation_time  org_id  \\\n",
       "0    AugustCClausen@yahoo.com 1970-01-01 00:00:01.398138810      11   \n",
       "1      MatthewPoole@gustr.com 1970-01-01 00:00:01.396237504       1   \n",
       "2  MitchellBottrill@gustr.com 1970-01-01 00:00:01.363734892      94   \n",
       "3   NicklasSClausen@yahoo.com 1970-01-01 00:00:01.369210168       1   \n",
       "4          GraceRaw@yahoo.com 1970-01-01 00:00:01.358849660     193   \n",
       "\n",
       "   invited_by_user_id  adopted_user  creation_source_ORG_INVITE  \\\n",
       "0             10803.0             0                           0   \n",
       "1               316.0             0                           1   \n",
       "2              1525.0             0                           1   \n",
       "3              5151.0             0                           0   \n",
       "4              5240.0             0                           0   \n",
       "\n",
       "   creation_source_PERSONAL_PROJECTS  creation_source_SIGNUP  \\\n",
       "0                                  0                       0   \n",
       "1                                  0                       0   \n",
       "2                                  0                       0   \n",
       "3                                  0                       0   \n",
       "4                                  0                       0   \n",
       "\n",
       "   creation_source_SIGNUP_GOOGLE_AUTH  opted_in_to_mailing_list_1  \\\n",
       "0                                   0                           1   \n",
       "1                                   0                           0   \n",
       "2                                   0                           0   \n",
       "3                                   0                           0   \n",
       "4                                   0                           0   \n",
       "\n",
       "   enabled_for_marketing_drip_1  \n",
       "0                             0  \n",
       "1                             0  \n",
       "2                             0  \n",
       "3                             0  \n",
       "4                             0  "
      ]
     },
     "execution_count": 224,
     "metadata": {},
     "output_type": "execute_result"
    }
   ],
   "source": [
    "df_dummy.head()"
   ]
  },
  {
   "cell_type": "code",
   "execution_count": 225,
   "metadata": {},
   "outputs": [
    {
     "data": {
      "text/plain": [
       "Index(['object_id', 'creation_time', 'name', 'email',\n",
       "       'last_session_creation_time', 'org_id', 'invited_by_user_id',\n",
       "       'adopted_user', 'creation_source_ORG_INVITE',\n",
       "       'creation_source_PERSONAL_PROJECTS', 'creation_source_SIGNUP',\n",
       "       'creation_source_SIGNUP_GOOGLE_AUTH', 'opted_in_to_mailing_list_1',\n",
       "       'enabled_for_marketing_drip_1'],\n",
       "      dtype='object')"
      ]
     },
     "execution_count": 225,
     "metadata": {},
     "output_type": "execute_result"
    }
   ],
   "source": [
    "df_dummy.columns"
   ]
  },
  {
   "cell_type": "code",
   "execution_count": 226,
   "metadata": {},
   "outputs": [],
   "source": [
    "X = df_dummy[['object_id' , 'org_id' , 'creation_source_ORG_INVITE',\n",
    "       'creation_source_PERSONAL_PROJECTS', 'creation_source_SIGNUP',\n",
    "       'creation_source_SIGNUP_GOOGLE_AUTH', 'opted_in_to_mailing_list_1',\n",
    "       'enabled_for_marketing_drip_1']].values\n",
    "y = df_dummy['adopted_user'].values"
   ]
  },
  {
   "cell_type": "code",
   "execution_count": 228,
   "metadata": {},
   "outputs": [],
   "source": [
    "from sklearn.model_selection import train_test_split\n",
    "\n",
    "X_train, X_test, y_train, y_test = train_test_split( X, y, test_size=0.33, random_state=42)"
   ]
  },
  {
   "cell_type": "markdown",
   "metadata": {},
   "source": [
    "# Null Accuracy"
   ]
  },
  {
   "cell_type": "code",
   "execution_count": 237,
   "metadata": {},
   "outputs": [
    {
     "data": {
      "text/plain": [
       "0    0.901515\n",
       "dtype: float64"
      ]
     },
     "execution_count": 237,
     "metadata": {},
     "output_type": "execute_result"
    }
   ],
   "source": [
    "pd.value_counts(y_test).head(1)/y_test.shape"
   ]
  },
  {
   "cell_type": "code",
   "execution_count": 231,
   "metadata": {},
   "outputs": [
    {
     "name": "stderr",
     "output_type": "stream",
     "text": [
      "/anaconda3/lib/python3.7/site-packages/sklearn/ensemble/forest.py:246: FutureWarning: The default value of n_estimators will change from 10 in version 0.20 to 100 in 0.22.\n",
      "  \"10 in version 0.20 to 100 in 0.22.\", FutureWarning)\n"
     ]
    }
   ],
   "source": [
    "from sklearn.ensemble import RandomForestClassifier\n",
    "\n",
    "rfc = RandomForestClassifier().fit(X_train , y_train)\n",
    "\n",
    "pred = rfc.predict(X_test)"
   ]
  },
  {
   "cell_type": "code",
   "execution_count": 232,
   "metadata": {},
   "outputs": [
    {
     "name": "stdout",
     "output_type": "stream",
     "text": [
      "0.8843434343434343\n",
      "[[3495   75]\n",
      " [ 383    7]]\n"
     ]
    }
   ],
   "source": [
    "from sklearn import metrics\n",
    "\n",
    "print (metrics.accuracy_score(y_test , pred))\n",
    "\n",
    "print (metrics.confusion_matrix(y_test , pred))"
   ]
  },
  {
   "cell_type": "code",
   "execution_count": 238,
   "metadata": {},
   "outputs": [
    {
     "name": "stdout",
     "output_type": "stream",
     "text": [
      "0.5755050505050505\n",
      "[[2091 1479]\n",
      " [ 202  188]]\n"
     ]
    }
   ],
   "source": [
    "from sklearn.naive_bayes import MultinomialNB\n",
    "\n",
    "nb = MultinomialNB().fit(X_train , y_train)\n",
    "\n",
    "pred = nb.predict(X_test)\n",
    "\n",
    "print (metrics.accuracy_score(y_test , pred))\n",
    "\n",
    "print (metrics.confusion_matrix(y_test , pred))"
   ]
  },
  {
   "cell_type": "code",
   "execution_count": 239,
   "metadata": {},
   "outputs": [
    {
     "name": "stdout",
     "output_type": "stream",
     "text": [
      "0.9015151515151515\n",
      "[[3570    0]\n",
      " [ 390    0]]\n"
     ]
    },
    {
     "name": "stderr",
     "output_type": "stream",
     "text": [
      "/anaconda3/lib/python3.7/site-packages/sklearn/linear_model/logistic.py:433: FutureWarning: Default solver will be changed to 'lbfgs' in 0.22. Specify a solver to silence this warning.\n",
      "  FutureWarning)\n"
     ]
    }
   ],
   "source": [
    "from sklearn.linear_model import LogisticRegression\n",
    "\n",
    "lr = LogisticRegression().fit(X_train , y_train)\n",
    "\n",
    "pred = lr.predict(X_test)\n",
    "\n",
    "print (metrics.accuracy_score(y_test , pred))\n",
    "\n",
    "print (metrics.confusion_matrix(y_test , pred))"
   ]
  },
  {
   "cell_type": "code",
   "execution_count": 244,
   "metadata": {},
   "outputs": [],
   "source": [
    "param_grid = {\n",
    "    'penalty' : ['l1', 'l2'],\n",
    "    'C' : np.logspace(-4, 4, 20),\n",
    "    'solver' : ['liblinear']\n",
    "}"
   ]
  },
  {
   "cell_type": "code",
   "execution_count": 248,
   "metadata": {},
   "outputs": [],
   "source": [
    "from sklearn.model_selection import GridSearchCV\n",
    "\n",
    "grid = GridSearchCV(lr , param_grid , cv = 5 , scoring= 'accuracy' )"
   ]
  },
  {
   "cell_type": "code",
   "execution_count": 249,
   "metadata": {},
   "outputs": [
    {
     "data": {
      "text/plain": [
       "GridSearchCV(cv=5, error_score='raise-deprecating',\n",
       "       estimator=LogisticRegression(C=1.0, class_weight=None, dual=False, fit_intercept=True,\n",
       "          intercept_scaling=1, max_iter=100, multi_class='warn',\n",
       "          n_jobs=None, penalty='l2', random_state=None, solver='warn',\n",
       "          tol=0.0001, verbose=0, warm_start=False),\n",
       "       fit_params=None, iid='warn', n_jobs=None,\n",
       "       param_grid={'penalty': ['l1', 'l2'], 'C': array([1.00000e-04, 2.63665e-04, 6.95193e-04, 1.83298e-03, 4.83293e-03,\n",
       "       1.27427e-02, 3.35982e-02, 8.85867e-02, 2.33572e-01, 6.15848e-01,\n",
       "       1.62378e+00, 4.28133e+00, 1.12884e+01, 2.97635e+01, 7.84760e+01,\n",
       "       2.06914e+02, 5.45559e+02, 1.43845e+03, 3.79269e+03, 1.00000e+04]), 'solver': ['liblinear']},\n",
       "       pre_dispatch='2*n_jobs', refit=True, return_train_score='warn',\n",
       "       scoring='accuracy', verbose=0)"
      ]
     },
     "execution_count": 249,
     "metadata": {},
     "output_type": "execute_result"
    }
   ],
   "source": [
    "grid.fit(X, y)"
   ]
  },
  {
   "cell_type": "code",
   "execution_count": 250,
   "metadata": {},
   "outputs": [
    {
     "data": {
      "text/plain": [
       "0.901"
      ]
     },
     "execution_count": 250,
     "metadata": {},
     "output_type": "execute_result"
    }
   ],
   "source": [
    "grid.best_score_"
   ]
  },
  {
   "cell_type": "code",
   "execution_count": 306,
   "metadata": {},
   "outputs": [
    {
     "name": "stdout",
     "output_type": "stream",
     "text": [
      "0.9015151515151515\n",
      "[[3570    0]\n",
      " [ 390    0]]\n"
     ]
    }
   ],
   "source": [
    "from sklearn.ensemble import GradientBoostingClassifier\n",
    "\n",
    "gb = GradientBoostingClassifier(n_estimators=150, loss = 'exponential' ).fit(X_train, y_train)\n",
    "\n",
    "pred = gb.predict(X_test)\n",
    "\n",
    "print (metrics.accuracy_score(y_test , pred))\n",
    "\n",
    "print (metrics.confusion_matrix(y_test , pred))"
   ]
  },
  {
   "cell_type": "code",
   "execution_count": 314,
   "metadata": {},
   "outputs": [],
   "source": [
    "df_dummy['month'] = df_dummy.creation_time.dt.month_name()\n",
    "df_dummy['year'] = df_dummy.creation_time.dt.year.astype('str')\n",
    "df_dummy['day'] = df_dummy.creation_time.dt.day"
   ]
  },
  {
   "cell_type": "code",
   "execution_count": 319,
   "metadata": {},
   "outputs": [],
   "source": [
    "df_dummy = pd.get_dummies(df_dummy , columns=['month' , 'year'] )"
   ]
  },
  {
   "cell_type": "code",
   "execution_count": 321,
   "metadata": {},
   "outputs": [],
   "source": [
    "df_dummy.drop(['year_2012' , 'month_September'] , axis = 1 , inplace= True)"
   ]
  },
  {
   "cell_type": "code",
   "execution_count": 322,
   "metadata": {},
   "outputs": [
    {
     "data": {
      "text/plain": [
       "Index(['object_id', 'creation_time', 'name', 'email',\n",
       "       'last_session_creation_time', 'org_id', 'invited_by_user_id',\n",
       "       'adopted_user', 'creation_source_ORG_INVITE',\n",
       "       'creation_source_PERSONAL_PROJECTS', 'creation_source_SIGNUP',\n",
       "       'creation_source_SIGNUP_GOOGLE_AUTH', 'opted_in_to_mailing_list_1',\n",
       "       'enabled_for_marketing_drip_1', 'day', 'month_April', 'month_August',\n",
       "       'month_December', 'month_February', 'month_January', 'month_July',\n",
       "       'month_June', 'month_March', 'month_May', 'month_November',\n",
       "       'month_October', 'year_2013', 'year_2014'],\n",
       "      dtype='object')"
      ]
     },
     "execution_count": 322,
     "metadata": {},
     "output_type": "execute_result"
    }
   ],
   "source": [
    "df_dummy.columns"
   ]
  },
  {
   "cell_type": "code",
   "execution_count": 375,
   "metadata": {},
   "outputs": [],
   "source": [
    "X = df_dummy[['object_id', \n",
    "         'org_id', \n",
    "       'creation_source_ORG_INVITE',\n",
    "       'creation_source_PERSONAL_PROJECTS', 'creation_source_SIGNUP',\n",
    "       'creation_source_SIGNUP_GOOGLE_AUTH', 'opted_in_to_mailing_list_1',\n",
    "       'enabled_for_marketing_drip_1', 'day', 'month_April', 'month_August',\n",
    "       'month_December', 'month_February', 'month_January', 'month_July',\n",
    "       'month_June', 'month_March', 'month_May', 'month_November',\n",
    "       'month_October', 'year_2013', 'year_2014']].values\n",
    "\n",
    "y = df_dummy['adopted_user'].values"
   ]
  },
  {
   "cell_type": "code",
   "execution_count": 376,
   "metadata": {},
   "outputs": [],
   "source": [
    "X_train, X_test, y_train, y_test = train_test_split( X, y, test_size=0.25, random_state=42)"
   ]
  },
  {
   "cell_type": "code",
   "execution_count": 343,
   "metadata": {},
   "outputs": [
    {
     "data": {
      "text/plain": [
       "0    0.901667\n",
       "dtype: float64"
      ]
     },
     "execution_count": 343,
     "metadata": {},
     "output_type": "execute_result"
    }
   ],
   "source": [
    "pd.value_counts(y_test).head(1)/y_test.shape"
   ]
  },
  {
   "cell_type": "code",
   "execution_count": 331,
   "metadata": {},
   "outputs": [
    {
     "name": "stdout",
     "output_type": "stream",
     "text": [
      "0.9013333333333333\n",
      "[[2704    1]\n",
      " [ 295    0]]\n"
     ]
    }
   ],
   "source": [
    "gb = GradientBoostingClassifier().fit(X_train, y_train)\n",
    "\n",
    "pred = gb.predict(X_test)\n",
    "\n",
    "print (metrics.accuracy_score(y_test , pred))\n",
    "\n",
    "print (metrics.confusion_matrix(y_test , pred))"
   ]
  },
  {
   "cell_type": "code",
   "execution_count": 332,
   "metadata": {},
   "outputs": [
    {
     "name": "stdout",
     "output_type": "stream",
     "text": [
      "0.9016666666666666\n",
      "[[2705    0]\n",
      " [ 295    0]]\n"
     ]
    },
    {
     "name": "stderr",
     "output_type": "stream",
     "text": [
      "/anaconda3/lib/python3.7/site-packages/sklearn/linear_model/logistic.py:433: FutureWarning: Default solver will be changed to 'lbfgs' in 0.22. Specify a solver to silence this warning.\n",
      "  FutureWarning)\n"
     ]
    }
   ],
   "source": [
    "lr = LogisticRegression().fit(X_train , y_train)\n",
    "\n",
    "pred = lr.predict(X_test)\n",
    "\n",
    "print (metrics.accuracy_score(y_test , pred))\n",
    "\n",
    "print (metrics.confusion_matrix(y_test , pred))"
   ]
  },
  {
   "cell_type": "code",
   "execution_count": 333,
   "metadata": {},
   "outputs": [
    {
     "name": "stdout",
     "output_type": "stream",
     "text": [
      "0.8973333333333333\n",
      "[[2688   17]\n",
      " [ 291    4]]\n"
     ]
    },
    {
     "name": "stderr",
     "output_type": "stream",
     "text": [
      "/anaconda3/lib/python3.7/site-packages/sklearn/ensemble/forest.py:246: FutureWarning: The default value of n_estimators will change from 10 in version 0.20 to 100 in 0.22.\n",
      "  \"10 in version 0.20 to 100 in 0.22.\", FutureWarning)\n"
     ]
    }
   ],
   "source": [
    "rfc = RandomForestClassifier().fit(X_train , y_train)\n",
    "\n",
    "pred = rfc.predict(X_test)\n",
    "\n",
    "print (metrics.accuracy_score(y_test , pred))\n",
    "\n",
    "print (metrics.confusion_matrix(y_test , pred))"
   ]
  },
  {
   "cell_type": "code",
   "execution_count": 335,
   "metadata": {},
   "outputs": [],
   "source": [
    "#Number of trees in random forest\n",
    "n_estimators = [int(x) for x in np.linspace(start = 200, stop = 2000, num = 10)]\n",
    "# Number of features to consider at every split\n",
    "max_features = ['auto', 'sqrt']\n",
    "# Maximum number of levels in tree\n",
    "max_depth = [int(x) for x in np.linspace(10, 110, num = 11)]\n",
    "max_depth.append(None)\n",
    "# Minimum number of samples required to split a node\n",
    "min_samples_split = [2, 5, 10]\n",
    "# Minimum number of samples required at each leaf node\n",
    "min_samples_leaf = [1, 2, 4]\n",
    "# Method of selecting samples for training each tree\n",
    "bootstrap = [True, False]\n",
    "# Create the random grid\n",
    "param_grid = {'n_estimators': n_estimators,\n",
    "               'max_features': max_features,\n",
    "               'max_depth': max_depth,\n",
    "               'min_samples_split': min_samples_split,\n",
    "               'min_samples_leaf': min_samples_leaf,\n",
    "               'bootstrap': bootstrap}"
   ]
  },
  {
   "cell_type": "code",
   "execution_count": 337,
   "metadata": {},
   "outputs": [],
   "source": [
    "from sklearn.model_selection import RandomizedSearchCV\n",
    "\n",
    "\n",
    "random = RandomizedSearchCV(rfc , param_grid , n_iter = 3 , cv = 3)"
   ]
  },
  {
   "cell_type": "code",
   "execution_count": 338,
   "metadata": {},
   "outputs": [
    {
     "data": {
      "text/plain": [
       "RandomizedSearchCV(cv=3, error_score='raise-deprecating',\n",
       "          estimator=RandomForestClassifier(bootstrap=True, class_weight=None, criterion='gini',\n",
       "            max_depth=None, max_features='auto', max_leaf_nodes=None,\n",
       "            min_impurity_decrease=0.0, min_impurity_split=None,\n",
       "            min_samples_leaf=1, min_samples_split=2,\n",
       "            min_weight_fraction_leaf=0.0, n_estimators=10, n_jobs=None,\n",
       "            oob_score=False, random_state=None, verbose=0,\n",
       "            warm_start=False),\n",
       "          fit_params=None, iid='warn', n_iter=3, n_jobs=None,\n",
       "          param_distributions={'n_estimators': [200, 400, 600, 800, 1000, 1200, 1400, 1600, 1800, 2000], 'max_features': ['auto', 'sqrt'], 'max_depth': [10, 20, 30, 40, 50, 60, 70, 80, 90, 100, 110, None], 'min_samples_split': [2, 5, 10], 'min_samples_leaf': [1, 2, 4], 'bootstrap': [True, False]},\n",
       "          pre_dispatch='2*n_jobs', random_state=None, refit=True,\n",
       "          return_train_score='warn', scoring=None, verbose=0)"
      ]
     },
     "execution_count": 338,
     "metadata": {},
     "output_type": "execute_result"
    }
   ],
   "source": [
    "random.fit(X, y)"
   ]
  },
  {
   "cell_type": "code",
   "execution_count": 339,
   "metadata": {},
   "outputs": [
    {
     "data": {
      "text/plain": [
       "0.7296666666666667"
      ]
     },
     "execution_count": 339,
     "metadata": {},
     "output_type": "execute_result"
    }
   ],
   "source": [
    "random.best_score_"
   ]
  },
  {
   "cell_type": "code",
   "execution_count": 344,
   "metadata": {},
   "outputs": [
    {
     "name": "stderr",
     "output_type": "stream",
     "text": [
      "/anaconda3/lib/python3.7/site-packages/sklearn/svm/base.py:196: FutureWarning: The default value of gamma will change from 'auto' to 'scale' in version 0.22 to account better for unscaled features. Set gamma explicitly to 'auto' or 'scale' to avoid this warning.\n",
      "  \"avoid this warning.\", FutureWarning)\n"
     ]
    },
    {
     "name": "stdout",
     "output_type": "stream",
     "text": [
      "0.8973333333333333\n",
      "[[2688   17]\n",
      " [ 291    4]]\n"
     ]
    }
   ],
   "source": [
    "from sklearn.svm import SVC\n",
    "\n",
    "svm = SVC().fit(X_train , y_train)\n",
    "\n",
    "pred = rfc.predict(X_test)\n",
    "\n",
    "print (metrics.accuracy_score(y_test , pred))\n",
    "\n",
    "print (metrics.confusion_matrix(y_test , pred))"
   ]
  },
  {
   "cell_type": "code",
   "execution_count": 348,
   "metadata": {},
   "outputs": [],
   "source": [
    "from numpy import loadtxt\n",
    "from xgboost import XGBClassifier"
   ]
  },
  {
   "cell_type": "code",
   "execution_count": 349,
   "metadata": {},
   "outputs": [
    {
     "name": "stdout",
     "output_type": "stream",
     "text": [
      "0.9016666666666666\n",
      "[[2705    0]\n",
      " [ 295    0]]\n"
     ]
    }
   ],
   "source": [
    "xgb = XGBClassifier().fit(X_train , y_train)\n",
    "\n",
    "pred = xgb.predict(X_test)\n",
    "\n",
    "print (metrics.accuracy_score(y_test , pred))\n",
    "\n",
    "print (metrics.confusion_matrix(y_test , pred))"
   ]
  },
  {
   "cell_type": "code",
   "execution_count": 356,
   "metadata": {},
   "outputs": [],
   "source": [
    "X = df_dummy[['object_id', \n",
    "         'org_id', \n",
    "       'creation_source_ORG_INVITE',\n",
    "       'creation_source_PERSONAL_PROJECTS', 'creation_source_SIGNUP',\n",
    "       'creation_source_SIGNUP_GOOGLE_AUTH', 'opted_in_to_mailing_list_1',\n",
    "       'enabled_for_marketing_drip_1', 'day', 'month_April', 'month_August',\n",
    "       'month_December', 'month_February', 'month_January', 'month_July',\n",
    "       'month_June', 'month_March', 'month_May', 'month_November',\n",
    "       'month_October', 'year_2013', 'year_2014']].values\n",
    "\n",
    "y = df_dummy['adopted_user'].values"
   ]
  },
  {
   "cell_type": "code",
   "execution_count": 357,
   "metadata": {},
   "outputs": [],
   "source": [
    "X_train, X_test, y_train, y_test = train_test_split( X, y, test_size=0.25, random_state=42)"
   ]
  },
  {
   "cell_type": "code",
   "execution_count": 358,
   "metadata": {},
   "outputs": [
    {
     "name": "stdout",
     "output_type": "stream",
     "text": [
      "0.9016666666666666\n",
      "[[2705    0]\n",
      " [ 295    0]]\n"
     ]
    }
   ],
   "source": [
    "xgb = XGBClassifier().fit(X_train , y_train)\n",
    "\n",
    "pred = xgb.predict(X_test)\n",
    "\n",
    "print (metrics.accuracy_score(y_test , pred))\n",
    "\n",
    "print (metrics.confusion_matrix(y_test , pred))"
   ]
  },
  {
   "cell_type": "code",
   "execution_count": 373,
   "metadata": {},
   "outputs": [],
   "source": [
    "from sklearn.decomposition import PCA"
   ]
  },
  {
   "cell_type": "code",
   "execution_count": 374,
   "metadata": {},
   "outputs": [],
   "source": [
    "pca = PCA(0.95)"
   ]
  },
  {
   "cell_type": "code",
   "execution_count": 377,
   "metadata": {},
   "outputs": [],
   "source": [
    "pca_X_train = pca.fit_transform(X_train)\n",
    "pca_X_test = pca.transform(X_test)"
   ]
  },
  {
   "cell_type": "code",
   "execution_count": 378,
   "metadata": {},
   "outputs": [
    {
     "name": "stderr",
     "output_type": "stream",
     "text": [
      "/anaconda3/lib/python3.7/site-packages/sklearn/linear_model/logistic.py:433: FutureWarning: Default solver will be changed to 'lbfgs' in 0.22. Specify a solver to silence this warning.\n",
      "  FutureWarning)\n"
     ]
    }
   ],
   "source": [
    "lr.fit(pca_X_train , y_train)\n",
    "pred = lr.predict(pca_X_test)"
   ]
  },
  {
   "cell_type": "code",
   "execution_count": 379,
   "metadata": {},
   "outputs": [
    {
     "name": "stdout",
     "output_type": "stream",
     "text": [
      "0.9016666666666666\n",
      "[[2705    0]\n",
      " [ 295    0]]\n"
     ]
    }
   ],
   "source": [
    "print (metrics.accuracy_score(y_test , pred))\n",
    "\n",
    "print (metrics.confusion_matrix(y_test , pred))"
   ]
  },
  {
   "cell_type": "code",
   "execution_count": 380,
   "metadata": {},
   "outputs": [
    {
     "name": "stderr",
     "output_type": "stream",
     "text": [
      "/anaconda3/lib/python3.7/site-packages/sklearn/svm/base.py:196: FutureWarning: The default value of gamma will change from 'auto' to 'scale' in version 0.22 to account better for unscaled features. Set gamma explicitly to 'auto' or 'scale' to avoid this warning.\n",
      "  \"avoid this warning.\", FutureWarning)\n"
     ]
    },
    {
     "name": "stdout",
     "output_type": "stream",
     "text": [
      "0.9016666666666666\n",
      "[[2705    0]\n",
      " [ 295    0]]\n"
     ]
    }
   ],
   "source": [
    "svm.fit(pca_X_train , y_train)\n",
    "pred = svm.predict(pca_X_test)\n",
    "\n",
    "print (metrics.accuracy_score(y_test , pred))\n",
    "\n",
    "print (metrics.confusion_matrix(y_test , pred))"
   ]
  },
  {
   "cell_type": "code",
   "execution_count": 382,
   "metadata": {},
   "outputs": [
    {
     "name": "stdout",
     "output_type": "stream",
     "text": [
      "0.9003333333333333\n",
      "[[2700    5]\n",
      " [ 294    1]]\n"
     ]
    }
   ],
   "source": [
    "gb.fit(pca_X_train , y_train)\n",
    "pred = gb.predict(pca_X_test)\n",
    "\n",
    "print (metrics.accuracy_score(y_test , pred))\n",
    "\n",
    "print (metrics.confusion_matrix(y_test , pred))"
   ]
  },
  {
   "cell_type": "code",
   "execution_count": 383,
   "metadata": {},
   "outputs": [
    {
     "name": "stdout",
     "output_type": "stream",
     "text": [
      "0.9016666666666666\n",
      "[[2705    0]\n",
      " [ 295    0]]\n"
     ]
    }
   ],
   "source": [
    "xgb.fit(pca_X_train , y_train)\n",
    "pred = xgb.predict(pca_X_test)\n",
    "\n",
    "print (metrics.accuracy_score(y_test , pred))\n",
    "\n",
    "print (metrics.confusion_matrix(y_test , pred))"
   ]
  },
  {
   "cell_type": "code",
   "execution_count": 384,
   "metadata": {},
   "outputs": [
    {
     "name": "stdout",
     "output_type": "stream",
     "text": [
      "0.8476666666666667\n",
      "[[2519  186]\n",
      " [ 271   24]]\n"
     ]
    }
   ],
   "source": [
    "rfc.fit(pca_X_train , y_train)\n",
    "pred = rfc.predict(pca_X_test)\n",
    "\n",
    "print (metrics.accuracy_score(y_test , pred))\n",
    "\n",
    "print (metrics.confusion_matrix(y_test , pred))"
   ]
  },
  {
   "cell_type": "code",
   "execution_count": 390,
   "metadata": {},
   "outputs": [],
   "source": [
    "pca = PCA(0.75)"
   ]
  },
  {
   "cell_type": "code",
   "execution_count": 391,
   "metadata": {},
   "outputs": [],
   "source": [
    "pca_X_train = pca.fit_transform(X_train)\n",
    "pca_X_test = pca.transform(X_test)"
   ]
  },
  {
   "cell_type": "code",
   "execution_count": 392,
   "metadata": {},
   "outputs": [
    {
     "name": "stdout",
     "output_type": "stream",
     "text": [
      "0.847\n",
      "[[2517  188]\n",
      " [ 271   24]]\n"
     ]
    }
   ],
   "source": [
    "rfc.fit(pca_X_train , y_train)\n",
    "pred = rfc.predict(pca_X_test)\n",
    "\n",
    "print (metrics.accuracy_score(y_test , pred))\n",
    "\n",
    "print (metrics.confusion_matrix(y_test , pred))"
   ]
  },
  {
   "cell_type": "code",
   "execution_count": 393,
   "metadata": {},
   "outputs": [
    {
     "name": "stdout",
     "output_type": "stream",
     "text": [
      "0.9016666666666666\n",
      "[[2705    0]\n",
      " [ 295    0]]\n"
     ]
    }
   ],
   "source": [
    "xgb.fit(pca_X_train , y_train)\n",
    "pred = xgb.predict(pca_X_test)\n",
    "\n",
    "print (metrics.accuracy_score(y_test , pred))\n",
    "\n",
    "print (metrics.confusion_matrix(y_test , pred))"
   ]
  },
  {
   "cell_type": "code",
   "execution_count": 394,
   "metadata": {},
   "outputs": [
    {
     "name": "stdout",
     "output_type": "stream",
     "text": [
      "0.9003333333333333\n",
      "[[2700    5]\n",
      " [ 294    1]]\n"
     ]
    }
   ],
   "source": [
    "gb.fit(pca_X_train , y_train)\n",
    "pred = gb.predict(pca_X_test)\n",
    "\n",
    "print (metrics.accuracy_score(y_test , pred))\n",
    "\n",
    "print (metrics.confusion_matrix(y_test , pred))"
   ]
  },
  {
   "cell_type": "code",
   "execution_count": null,
   "metadata": {},
   "outputs": [],
   "source": []
  }
 ],
 "metadata": {
  "kernelspec": {
   "display_name": "Python 3",
   "language": "python",
   "name": "python3"
  },
  "language_info": {
   "codemirror_mode": {
    "name": "ipython",
    "version": 3
   },
   "file_extension": ".py",
   "mimetype": "text/x-python",
   "name": "python",
   "nbconvert_exporter": "python",
   "pygments_lexer": "ipython3",
   "version": "3.7.1"
  }
 },
 "nbformat": 4,
 "nbformat_minor": 2
}
